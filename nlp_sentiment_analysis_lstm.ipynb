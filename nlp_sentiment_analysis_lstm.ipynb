{
 "cells": [
  {
   "cell_type": "markdown",
   "metadata": {
    "id": "punL79CN7Ox6"
   },
   "source": [
    "##### Copyright 2020 The TensorFlow Authors."
   ]
  },
  {
   "cell_type": "code",
   "execution_count": 1,
   "metadata": {
    "cellView": "form",
    "id": "_ckMIh7O7s6D"
   },
   "outputs": [],
   "source": [
    "#@title Licensed under the Apache License, Version 2.0 (the \"License\");\n",
    "# you may not use this file except in compliance with the License.\n",
    "# You may obtain a copy of the License at\n",
    "#\n",
    "# https://www.apache.org/licenses/LICENSE-2.0\n",
    "#\n",
    "# Unless required by applicable law or agreed to in writing, software\n",
    "# distributed under the License is distributed on an \"AS IS\" BASIS,\n",
    "# WITHOUT WARRANTIES OR CONDITIONS OF ANY KIND, either express or implied.\n",
    "# See the License for the specific language governing permissions and\n",
    "# limitations under the License."
   ]
  },
  {
   "cell_type": "markdown",
   "metadata": {
    "id": "hAclqSm3OOml"
   },
   "source": [
    "# Using LSTMs with the subwords dataset\n"
   ]
  },
  {
   "cell_type": "markdown",
   "metadata": {
    "id": "S5Uhzt6vVIB2"
   },
   "source": [
    "<table class=\"tfo-notebook-buttons\" align=\"left\">\n",
    "  <td>\n",
    "    <a target=\"_blank\" href=\"https://colab.research.google.com/github/tensorflow/examples/blob/master/courses/udacity_intro_to_tensorflow_for_deep_learning/l10c01_nlp_lstms_with_reviews_subwords_dataset.ipynb\"><img src=\"https://www.tensorflow.org/images/colab_logo_32px.png\" />Run in Google Colab</a>\n",
    "  </td>\n",
    "  <td>\n",
    "    <a target=\"_blank\" href=\"https://github.com/tensorflow/examples/blob/master/courses/udacity_intro_to_tensorflow_for_deep_learning/l10c01_nlp_lstms_with_reviews_subwords_dataset.ipynb\"><img src=\"https://www.tensorflow.org/images/GitHub-Mark-32px.png\" />View source on GitHub</a>\n",
    "  </td>\n",
    "</table>"
   ]
  },
  {
   "cell_type": "markdown",
   "metadata": {
    "id": "KTVx8__oGR9J"
   },
   "source": [
    "In this colab, you'll compare the results of using a model with an Embedding layer and then adding bidirectional LSTM layers.\n",
    "\n",
    "You'll work with the dataset of subwords for the combined Yelp and Amazon reviews.\n",
    "\n",
    "You'll use your models to predict the sentiment of new reviews."
   ]
  },
  {
   "cell_type": "code",
   "execution_count": 2,
   "metadata": {
    "id": "L62G7LTwNzoD"
   },
   "outputs": [],
   "source": [
    "import tensorflow as tf\n",
    "\n",
    "from tensorflow.keras.preprocessing.sequence import pad_sequences"
   ]
  },
  {
   "cell_type": "markdown",
   "metadata": {
    "id": "hLcl0QHvDjTV"
   },
   "source": [
    "# Get the dataset\n",
    "\n",
    "Start by getting the dataset containing Amazon and Yelp reviews, with their related sentiment (1 for positive, 0 for negative). This dataset was originally extracted from [here](https://www.kaggle.com/marklvl/sentiment-labelled-sentences-data-set).\n"
   ]
  },
  {
   "cell_type": "code",
   "execution_count": 3,
   "metadata": {},
   "outputs": [
    {
     "name": "stdout",
     "output_type": "stream",
     "text": [
      "Requirement already satisfied: wget in c:\\users\\walee\\anaconda3\\lib\\site-packages (3.2)\n"
     ]
    }
   ],
   "source": [
    "!pip install wget"
   ]
  },
  {
   "cell_type": "code",
   "execution_count": 4,
   "metadata": {
    "colab": {
     "base_uri": "https://localhost:8080/"
    },
    "id": "nCOtiRJZbxCH",
    "outputId": "8f3921fa-256e-4559-a248-47e4d97a277d"
   },
   "outputs": [
    {
     "name": "stderr",
     "output_type": "stream",
     "text": [
      "SYSTEM_WGETRC = c:/progra~1/wget/etc/wgetrc\n",
      "syswgetrc = C:\\Program Files (x86)\\GnuWin32/etc/wgetrc\n",
      "--2023-02-02 10:08:45--  https://drive.google.com/uc?id=13ySLC_ue6Umt9RJYSeM2t-V0kCv-4C-P\n",
      "Resolving drive.google.com... 142.250.181.78, 2a00:1450:4019:801::200e\n",
      "Connecting to drive.google.com|142.250.181.78|:443... connected.\n",
      "WARNING: cannot verify drive.google.com's certificate, issued by `/C=US/O=Google Trust Services LLC/CN=GTS CA 1C3':\n",
      "  Unable to locally verify the issuer's authority.\n",
      "HTTP request sent, awaiting response... 303 See Other\n",
      "Location: https://doc-08-ak-docs.googleusercontent.com/docs/securesc/ha0ro937gcuc7l7deffksulhg5h7mbp1/mjmsa3ovugu4u2spn68egvlmia9res30/1675321725000/11118900490791463723/*/13ySLC_ue6Umt9RJYSeM2t-V0kCv-4C-P?uuid=21e0ee8d-6757-4211-8644-143a23910193 [following]\n",
      "Warning: wildcards not supported in HTTP.\n",
      "--2023-02-02 10:08:45--  https://doc-08-ak-docs.googleusercontent.com/docs/securesc/ha0ro937gcuc7l7deffksulhg5h7mbp1/mjmsa3ovugu4u2spn68egvlmia9res30/1675321725000/11118900490791463723/*/13ySLC_ue6Umt9RJYSeM2t-V0kCv-4C-P?uuid=21e0ee8d-6757-4211-8644-143a23910193\n",
      "Resolving doc-08-ak-docs.googleusercontent.com... 142.250.181.129, 2a00:1450:4019:806::2001\n",
      "Connecting to doc-08-ak-docs.googleusercontent.com|142.250.181.129|:443... connected.\n",
      "WARNING: cannot verify doc-08-ak-docs.googleusercontent.com's certificate, issued by `/C=US/O=Google Trust Services LLC/CN=GTS CA 1C3':\n",
      "  Unable to locally verify the issuer's authority.\n",
      "HTTP request sent, awaiting response... 200 OK\n",
      "Length: 127831 (125K) [text/csv]\n",
      "Saving to: `C:/Users/walee/downloads/sentiment.csv'\n",
      "\n",
      "     0K .......... .......... .......... .......... .......... 40%  334K 0s\n",
      "    50K .......... .......... .......... .......... .......... 80%  371K 0s\n",
      "   100K .......... .......... ....                            100% 1.18M=0.3s\n",
      "\n",
      "2023-02-02 10:08:47 (409 KB/s) - `C:/Users/walee/downloads/sentiment.csv' saved [127831/127831]\n",
      "\n"
     ]
    }
   ],
   "source": [
    "!wget --no-check-certificate \\\n",
    "    https://drive.google.com/uc?id=13ySLC_ue6Umt9RJYSeM2t-V0kCv-4C-P -O C:/Users/walee/downloads/sentiment.csv"
   ]
  },
  {
   "cell_type": "code",
   "execution_count": 5,
   "metadata": {
    "id": "XuqER_KMD-xS"
   },
   "outputs": [],
   "source": [
    "import pandas as pd\n",
    "\n",
    "dataset = pd.read_csv('C:/Users/walee/downloads/sentiment.csv')\n",
    "\n",
    "# Extract out sentences and labels\n",
    "sentences = dataset['text'].tolist()\n",
    "labels = dataset['sentiment'].tolist()"
   ]
  },
  {
   "cell_type": "code",
   "execution_count": 6,
   "metadata": {
    "colab": {
     "base_uri": "https://localhost:8080/"
    },
    "id": "Tbsx1T2CXPNO",
    "outputId": "842f7b00-506e-4e27-888c-66e3f0f0828e"
   },
   "outputs": [
    {
     "name": "stdout",
     "output_type": "stream",
     "text": [
      "So there is no way for me to plug it in here in the US unless I go by a converter.\n",
      "0\n",
      "\n",
      "\n",
      "Good case Excellent value.\n",
      "1\n",
      "\n",
      "\n"
     ]
    }
   ],
   "source": [
    "# Print some example sentences and labels\n",
    "for x in range(2):\n",
    "  print(sentences[x])\n",
    "  print(labels[x])\n",
    "  print(\"\\n\")"
   ]
  },
  {
   "cell_type": "markdown",
   "metadata": {
    "id": "33AthPiALFZK"
   },
   "source": [
    "#Create a subwords dataset\n",
    "\n",
    "We will use the Amazon and Yelp reviews dataset with tensorflow_datasets's SubwordTextEncoder functionality. \n",
    "\n",
    "SubwordTextEncoder.build_from_corpus() will create a tokenizer for us. You could also use this functionality to get subwords from a much larger corpus of text as well, but we'll just use our existing dataset here.\n",
    "\n",
    "We'll create a subword vocab_size of only the 1,000 most common subwords, as well as cutting off each subword to be at most 5 characters.\n",
    "\n",
    "Check out the related documentation for the the subword text encoder [here](https://www.tensorflow.org/datasets/api_docs/python/tfds/features/text/SubwordTextEncoder#build_from_corpus)."
   ]
  },
  {
   "cell_type": "code",
   "execution_count": 7,
   "metadata": {
    "colab": {
     "base_uri": "https://localhost:8080/"
    },
    "id": "6NaicNCcLYyf",
    "outputId": "04093bac-d6d9-4cf5-8e5c-65e579d8f5f2"
   },
   "outputs": [
    {
     "name": "stdout",
     "output_type": "stream",
     "text": [
      "Vocab size is  999\n"
     ]
    }
   ],
   "source": [
    "import tensorflow_datasets as tfds\n",
    "\n",
    "vocab_size = 1000\n",
    "tokenizer = tfds.deprecated.text.SubwordTextEncoder.build_from_corpus(sentences, vocab_size, max_subword_length=5)\n",
    "\n",
    "# How big is the vocab size?\n",
    "print(\"Vocab size is \", tokenizer.vocab_size)"
   ]
  },
  {
   "cell_type": "code",
   "execution_count": 8,
   "metadata": {
    "colab": {
     "base_uri": "https://localhost:8080/"
    },
    "id": "xvRVoeIVLevh",
    "outputId": "e2504308-451d-4aa7-859e-9d66d43285be"
   },
   "outputs": [
    {
     "name": "stdout",
     "output_type": "stream",
     "text": [
      "I have to jiggle the plug to get it to line up right to get decent volume.\n",
      "[4, 31, 6, 849, 162, 450, 12, 1, 600, 438, 775, 6, 175, 14, 6, 55, 213, 159, 474, 775, 6, 175, 614, 380, 295, 148, 72, 789]\n"
     ]
    }
   ],
   "source": [
    "# Check that the tokenizer works appropriately\n",
    "num = 5\n",
    "print(sentences[num])\n",
    "encoded = tokenizer.encode(sentences[num])\n",
    "print(encoded)"
   ]
  },
  {
   "cell_type": "code",
   "execution_count": 9,
   "metadata": {
    "colab": {
     "base_uri": "https://localhost:8080/"
    },
    "id": "G_vacTCifklV",
    "outputId": "fae4d985-aa34-4a2b-96a0-808805383621"
   },
   "outputs": [
    {
     "name": "stdout",
     "output_type": "stream",
     "text": [
      "I \n",
      "have \n",
      "to \n",
      "j\n",
      "ig\n",
      "gl\n",
      "e \n",
      "the \n",
      "pl\n",
      "ug\n",
      " \n",
      "to \n",
      "get \n",
      "it \n",
      "to \n",
      "li\n",
      "ne \n",
      "up \n",
      "right\n",
      " \n",
      "to \n",
      "get \n",
      "dec\n",
      "ent \n",
      "vo\n",
      "lu\n",
      "me\n",
      ".\n"
     ]
    }
   ],
   "source": [
    "# Separately print out each subword, decoded\n",
    "for i in encoded:\n",
    "  print(tokenizer.decode([i]))"
   ]
  },
  {
   "cell_type": "markdown",
   "metadata": {
    "id": "cT528cptLupl"
   },
   "source": [
    "## Replace sentence data with encoded subwords\n",
    "\n",
    "Now, we'll create the sequences to be used for training by actually encoding each of the individual sentences. This is equivalent to `text_to_sequences` with the `Tokenizer` we used in earlier exercises."
   ]
  },
  {
   "cell_type": "code",
   "execution_count": 10,
   "metadata": {
    "id": "lkseMhxjL09F"
   },
   "outputs": [],
   "source": [
    "for i, sentence in enumerate(sentences):\n",
    "  sentences[i] = tokenizer.encode(sentence)"
   ]
  },
  {
   "cell_type": "code",
   "execution_count": 11,
   "metadata": {
    "colab": {
     "base_uri": "https://localhost:8080/"
    },
    "id": "y21yRuzmL43U",
    "outputId": "da18fe9d-60e7-49b7-fd87-b7f2d2a573a0"
   },
   "outputs": [
    {
     "name": "stdout",
     "output_type": "stream",
     "text": [
      "[4, 31, 6, 849, 162, 450, 12, 1, 600, 438, 775, 6, 175, 14, 6, 55, 213, 159, 474, 775, 6, 175, 614, 380, 295, 148, 72, 789]\n"
     ]
    }
   ],
   "source": [
    "# Check the sentences are appropriately replaced\n",
    "print(sentences[5])"
   ]
  },
  {
   "cell_type": "markdown",
   "metadata": {
    "id": "8HrcPHESMBMs"
   },
   "source": [
    "## Final pre-processing\n",
    "\n",
    "Before training, we still need to pad the sequences, as well as split into training and test sets."
   ]
  },
  {
   "cell_type": "code",
   "execution_count": 12,
   "metadata": {
    "id": "50-hTsogLSL-"
   },
   "outputs": [],
   "source": [
    "import numpy as np\n",
    "\n",
    "max_length = 50\n",
    "trunc_type='post'\n",
    "padding_type='post'\n",
    "\n",
    "# Pad all sequences\n",
    "sequences_padded = pad_sequences(sentences, maxlen=max_length, \n",
    "                                 padding=padding_type, truncating=trunc_type)\n",
    "\n",
    "# Separate out the sentences and labels into training and test sets\n",
    "training_size = int(len(sentences) * 0.8)\n",
    "\n",
    "training_sequences = sequences_padded[0:training_size]\n",
    "testing_sequences = sequences_padded[training_size:]\n",
    "training_labels = labels[0:training_size]\n",
    "testing_labels = labels[training_size:]\n",
    "\n",
    "# Make labels into numpy arrays for use with the network later\n",
    "training_labels_final = np.array(training_labels)\n",
    "testing_labels_final = np.array(testing_labels)"
   ]
  },
  {
   "cell_type": "markdown",
   "metadata": {
    "id": "PahZm7YEQ8EI"
   },
   "source": [
    "# Create the model using an Embedding"
   ]
  },
  {
   "cell_type": "code",
   "execution_count": 25,
   "metadata": {
    "colab": {
     "base_uri": "https://localhost:8080/"
    },
    "id": "c_nyQeI0RCCv",
    "outputId": "a917144a-a3aa-45d7-e468-39de155ffde3"
   },
   "outputs": [
    {
     "name": "stdout",
     "output_type": "stream",
     "text": [
      "Model: \"sequential_3\"\n",
      "_________________________________________________________________\n",
      " Layer (type)                Output Shape              Param #   \n",
      "=================================================================\n",
      " embedding_3 (Embedding)     (None, 50, 16)            16000     \n",
      "                                                                 \n",
      " global_average_pooling1d_1   (None, 16)               0         \n",
      " (GlobalAveragePooling1D)                                        \n",
      "                                                                 \n",
      " dense_6 (Dense)             (None, 6)                 102       \n",
      "                                                                 \n",
      " dense_7 (Dense)             (None, 1)                 7         \n",
      "                                                                 \n",
      "=================================================================\n",
      "Total params: 16,109\n",
      "Trainable params: 16,109\n",
      "Non-trainable params: 0\n",
      "_________________________________________________________________\n"
     ]
    }
   ],
   "source": [
    "embedding_dim = 16\n",
    "\n",
    "model = tf.keras.Sequential([\n",
    "    tf.keras.layers.Embedding(vocab_size, embedding_dim, input_length=max_length),\n",
    "    tf.keras.layers.GlobalAveragePooling1D(), \n",
    "    tf.keras.layers.Dense(6, activation='relu'),\n",
    "    tf.keras.layers.Dense(1, activation='sigmoid')\n",
    "])\n",
    "\n",
    "model.summary()"
   ]
  },
  {
   "cell_type": "markdown",
   "metadata": {
    "id": "3WRXrx8BRO2L"
   },
   "source": [
    "# Train the model"
   ]
  },
  {
   "cell_type": "code",
   "execution_count": 26,
   "metadata": {
    "colab": {
     "base_uri": "https://localhost:8080/"
    },
    "id": "oBKyVYvxRQ_9",
    "outputId": "bc9bb9c0-beef-480e-f014-605b53d0a7d6"
   },
   "outputs": [
    {
     "name": "stdout",
     "output_type": "stream",
     "text": [
      "Epoch 1/30\n",
      "50/50 [==============================] - 1s 12ms/step - loss: 0.6907 - accuracy: 0.5217 - val_loss: 0.6976 - val_accuracy: 0.4236\n",
      "Epoch 2/30\n",
      "50/50 [==============================] - 0s 9ms/step - loss: 0.6856 - accuracy: 0.5461 - val_loss: 0.6972 - val_accuracy: 0.4536\n",
      "Epoch 3/30\n",
      "50/50 [==============================] - 0s 9ms/step - loss: 0.6781 - accuracy: 0.5763 - val_loss: 0.6905 - val_accuracy: 0.5038\n",
      "Epoch 4/30\n",
      "50/50 [==============================] - 0s 9ms/step - loss: 0.6661 - accuracy: 0.6347 - val_loss: 0.6815 - val_accuracy: 0.5288\n",
      "Epoch 5/30\n",
      "50/50 [==============================] - 0s 9ms/step - loss: 0.6489 - accuracy: 0.7031 - val_loss: 0.6780 - val_accuracy: 0.5338\n",
      "Epoch 6/30\n",
      "50/50 [==============================] - 0s 9ms/step - loss: 0.6255 - accuracy: 0.7458 - val_loss: 0.6577 - val_accuracy: 0.5664\n",
      "Epoch 7/30\n",
      "50/50 [==============================] - 0s 10ms/step - loss: 0.5953 - accuracy: 0.7558 - val_loss: 0.6136 - val_accuracy: 0.7619\n",
      "Epoch 8/30\n",
      "50/50 [==============================] - 0s 10ms/step - loss: 0.5623 - accuracy: 0.7947 - val_loss: 0.5918 - val_accuracy: 0.7870\n",
      "Epoch 9/30\n",
      "50/50 [==============================] - 0s 8ms/step - loss: 0.5266 - accuracy: 0.8249 - val_loss: 0.5735 - val_accuracy: 0.7719\n",
      "Epoch 10/30\n",
      "50/50 [==============================] - 0s 10ms/step - loss: 0.4896 - accuracy: 0.8355 - val_loss: 0.5514 - val_accuracy: 0.7769\n",
      "Epoch 11/30\n",
      "50/50 [==============================] - 0s 9ms/step - loss: 0.4569 - accuracy: 0.8512 - val_loss: 0.5398 - val_accuracy: 0.7469\n",
      "Epoch 12/30\n",
      "50/50 [==============================] - 0s 9ms/step - loss: 0.4257 - accuracy: 0.8606 - val_loss: 0.5223 - val_accuracy: 0.7669\n",
      "Epoch 13/30\n",
      "50/50 [==============================] - 0s 9ms/step - loss: 0.3978 - accuracy: 0.8669 - val_loss: 0.5440 - val_accuracy: 0.7218\n",
      "Epoch 14/30\n",
      "50/50 [==============================] - 0s 9ms/step - loss: 0.3774 - accuracy: 0.8632 - val_loss: 0.5265 - val_accuracy: 0.7469\n",
      "Epoch 15/30\n",
      "50/50 [==============================] - 0s 9ms/step - loss: 0.3525 - accuracy: 0.8776 - val_loss: 0.5127 - val_accuracy: 0.7619\n",
      "Epoch 16/30\n",
      "50/50 [==============================] - 0s 9ms/step - loss: 0.3317 - accuracy: 0.8839 - val_loss: 0.5189 - val_accuracy: 0.7494\n",
      "Epoch 17/30\n",
      "50/50 [==============================] - 0s 9ms/step - loss: 0.3141 - accuracy: 0.8901 - val_loss: 0.5090 - val_accuracy: 0.7544\n",
      "Epoch 18/30\n",
      "50/50 [==============================] - 0s 9ms/step - loss: 0.2996 - accuracy: 0.8964 - val_loss: 0.4959 - val_accuracy: 0.7544\n",
      "Epoch 19/30\n",
      "50/50 [==============================] - 0s 8ms/step - loss: 0.2843 - accuracy: 0.9002 - val_loss: 0.5102 - val_accuracy: 0.7519\n",
      "Epoch 20/30\n",
      "50/50 [==============================] - 0s 9ms/step - loss: 0.2718 - accuracy: 0.9058 - val_loss: 0.5120 - val_accuracy: 0.7544\n",
      "Epoch 21/30\n",
      "50/50 [==============================] - 0s 9ms/step - loss: 0.2605 - accuracy: 0.9115 - val_loss: 0.5036 - val_accuracy: 0.7494\n",
      "Epoch 22/30\n",
      "50/50 [==============================] - 0s 9ms/step - loss: 0.2511 - accuracy: 0.9102 - val_loss: 0.5304 - val_accuracy: 0.7444\n",
      "Epoch 23/30\n",
      "50/50 [==============================] - 0s 9ms/step - loss: 0.2392 - accuracy: 0.9190 - val_loss: 0.5172 - val_accuracy: 0.7569\n",
      "Epoch 24/30\n",
      "50/50 [==============================] - 0s 9ms/step - loss: 0.2302 - accuracy: 0.9215 - val_loss: 0.5202 - val_accuracy: 0.7519\n",
      "Epoch 25/30\n",
      "50/50 [==============================] - 0s 9ms/step - loss: 0.2218 - accuracy: 0.9278 - val_loss: 0.5240 - val_accuracy: 0.7594\n",
      "Epoch 26/30\n",
      "50/50 [==============================] - 0s 9ms/step - loss: 0.2143 - accuracy: 0.9309 - val_loss: 0.5608 - val_accuracy: 0.7393\n",
      "Epoch 27/30\n",
      "50/50 [==============================] - 0s 9ms/step - loss: 0.2058 - accuracy: 0.9335 - val_loss: 0.5456 - val_accuracy: 0.7444\n",
      "Epoch 28/30\n",
      "50/50 [==============================] - 0s 9ms/step - loss: 0.1977 - accuracy: 0.9328 - val_loss: 0.5458 - val_accuracy: 0.7569\n",
      "Epoch 29/30\n",
      "50/50 [==============================] - 0s 9ms/step - loss: 0.1927 - accuracy: 0.9410 - val_loss: 0.5662 - val_accuracy: 0.7444\n",
      "Epoch 30/30\n",
      "50/50 [==============================] - 0s 9ms/step - loss: 0.1861 - accuracy: 0.9410 - val_loss: 0.5791 - val_accuracy: 0.7419\n"
     ]
    }
   ],
   "source": [
    "num_epochs = 30\n",
    "model.compile(loss='binary_crossentropy',optimizer='adam',metrics=['accuracy'])\n",
    "history = model.fit(training_sequences, training_labels_final, epochs=num_epochs, validation_data=(testing_sequences, testing_labels_final))\n"
   ]
  },
  {
   "cell_type": "markdown",
   "metadata": {
    "id": "HhLPbUl2AZ0y"
   },
   "source": [
    "# Plot the accuracy and loss"
   ]
  },
  {
   "cell_type": "code",
   "execution_count": 27,
   "metadata": {
    "colab": {
     "base_uri": "https://localhost:8080/",
     "height": 541
    },
    "id": "jzBM1PpJAYfD",
    "outputId": "16e81c5b-c905-48c2-c089-1eef0a2a7577"
   },
   "outputs": [
    {
     "data": {
      "image/png": "[encoded data removed]",
      "text/plain": [
       "<Figure size 640x480 with 1 Axes>"
      ]
     },
     "metadata": {},
     "output_type": "display_data"
    },
    {
     "data": {
      "image/png": "[encoded data removed]",
      "text/plain": [
       "<Figure size 640x480 with 1 Axes>"
      ]
     },
     "metadata": {},
     "output_type": "display_data"
    }
   ],
   "source": [
    "import matplotlib.pyplot as plt\n",
    "\n",
    "\n",
    "def plot_graphs(history, string):\n",
    "  plt.plot(history.history[string])\n",
    "  plt.plot(history.history['val_'+string])\n",
    "  plt.xlabel(\"Epochs\")\n",
    "  plt.ylabel(string)\n",
    "  plt.legend([string, 'val_'+string])\n",
    "  plt.show()\n",
    "  \n",
    "plot_graphs(history, \"accuracy\")\n",
    "plot_graphs(history, \"loss\")"
   ]
  },
  {
   "cell_type": "markdown",
   "metadata": {
    "id": "Fwr5inBiWffb"
   },
   "source": [
    "# Define a function to predict the sentiment of reviews\n",
    "\n",
    "We'll be creating models with some differences and will use each model to predict the sentiment of some new reviews.\n",
    "\n",
    "To save time, create a function that will take in a model and some new reviews, and print out the sentiment of each reviews.\n",
    "\n",
    "The higher the sentiment value is to 1, the more positive the review is."
   ]
  },
  {
   "cell_type": "code",
   "execution_count": 16,
   "metadata": {
    "id": "aPNOYiiaha2y"
   },
   "outputs": [],
   "source": [
    "# Define a function to take a series of reviews\n",
    "# and predict whether each one is a positive or negative review\n",
    "\n",
    "# max_length = 100 # previously defined\n",
    "\n",
    "def predict_review(model, new_sentences, maxlen=max_length, show_padded_sequence=True ):\n",
    "  # Keep the original sentences so that we can keep using them later\n",
    "  # Create an array to hold the encoded sequences\n",
    "  new_sequences = []\n",
    "\n",
    "  # Convert the new reviews to sequences\n",
    "  for i, frvw in enumerate(new_sentences):\n",
    "    new_sequences.append(tokenizer.encode(frvw))\n",
    "\n",
    "  trunc_type='post' \n",
    "  padding_type='post'\n",
    "\n",
    "  # Pad all sequences for the new reviews\n",
    "  new_reviews_padded = pad_sequences(new_sequences, maxlen=max_length, \n",
    "                                 padding=padding_type, truncating=trunc_type)             \n",
    "\n",
    "  classes = model.predict(new_reviews_padded)\n",
    "\n",
    "  # The closer the class is to 1, the more positive the review is\n",
    "  for x in range(len(new_sentences)):\n",
    "    \n",
    "    # We can see the padded sequence if desired\n",
    "    # Print the sequence\n",
    "    if (show_padded_sequence):\n",
    "      print(new_reviews_padded[x])\n",
    "    # Print the review as text\n",
    "    print(new_sentences[x])\n",
    "    # Print its predicted class\n",
    "    print(classes[x])\n",
    "    print(\"\\n\")"
   ]
  },
  {
   "cell_type": "code",
   "execution_count": 28,
   "metadata": {
    "colab": {
     "base_uri": "https://localhost:8080/"
    },
    "id": "Qg-maex27KPW",
    "outputId": "721c8bfc-f66b-45a8-eb71-1a8def3d60dc"
   },
   "outputs": [
    {
     "name": "stdout",
     "output_type": "stream",
     "text": [
      "1/1 [==============================] - 0s 60ms/step\n",
      "[  4 281  16  25   0   0   0   0   0   0   0   0   0   0   0   0   0   0\n",
      "   0   0   0   0   0   0   0   0   0   0   0   0   0   0   0   0   0   0\n",
      "   0   0   0   0   0   0   0   0   0   0   0   0   0   0]\n",
      "I love this phone\n",
      "[0.9065704]\n",
      "\n",
      "\n",
      "[812 227 864 100 775   9 525 843   0   0   0   0   0   0   0   0   0   0\n",
      "   0   0   0   0   0   0   0   0   0   0   0   0   0   0   0   0   0   0\n",
      "   0   0   0   0   0   0   0   0   0   0   0   0   0   0]\n",
      "Everything was cold\n",
      "[0.1408851]\n",
      "\n",
      "\n",
      "[812 227 864 100 775   9 109   8 333 731  24  61   4 171  59  77   0   0\n",
      "   0   0   0   0   0   0   0   0   0   0   0   0   0   0   0   0   0   0\n",
      "   0   0   0   0   0   0   0   0   0   0   0   0   0   0]\n",
      "Everything was hot exactly as I wanted\n",
      "[0.32716522]\n",
      "\n",
      "\n",
      "[812 227 864 100 775   9 157 359 853   0   0   0   0   0   0   0   0   0\n",
      "   0   0   0   0   0   0   0   0   0   0   0   0   0   0   0   0   0   0\n",
      "   0   0   0   0   0   0   0   0   0   0   0   0   0   0]\n",
      "Everything was green\n",
      "[0.11617436]\n",
      "\n",
      "\n",
      "[  1 109 228 540 237 635 241 423 340  89 298   0   0   0   0   0   0   0\n",
      "   0   0   0   0   0   0   0   0   0   0   0   0   0   0   0   0   0   0\n",
      "   0   0   0   0   0   0   0   0   0   0   0   0   0   0]\n",
      "the host seated us immediately\n",
      "[0.46054435]\n",
      "\n",
      "\n",
      "[154 242  47 635 341  12 569 547 147 319 775 125  85   0   0   0   0   0\n",
      "   0   0   0   0   0   0   0   0   0   0   0   0   0   0   0   0   0   0\n",
      "   0   0   0   0   0   0   0   0   0   0   0   0   0   0]\n",
      "they gave us free chocolate cake\n",
      "[0.7505373]\n",
      "\n",
      "\n",
      "[158 190 853 782   8 607 775 210 232 146 775 470  67 305 101  15   1 328\n",
      " 296  26  19   1 661 641 195   0   0   0   0   0   0   0   0   0   0   0\n",
      "   0   0   0   0   0   0   0   0   0   0   0   0   0   0]\n",
      "we couldn't hear each other talk because of the shouting in the kitchen\n",
      "[0.02385844]\n",
      "\n",
      "\n"
     ]
    }
   ],
   "source": [
    "# Use the model to predict some reviews   \n",
    "fake_reviews = [\"I love this phone\", \n",
    "                \"Everything was cold\",\n",
    "                \"Everything was hot exactly as I wanted\", \n",
    "                \"Everything was green\", \n",
    "                \"the host seated us immediately\",\n",
    "                \"they gave us free chocolate cake\", \n",
    "                \"we couldn't hear each other talk because of the shouting in the kitchen\"\n",
    "              ]\n",
    "\n",
    "predict_review(model, fake_reviews)\n"
   ]
  },
  {
   "cell_type": "markdown",
   "metadata": {
    "id": "ycJKbMq3K4iy"
   },
   "source": [
    "# Define a function to train and show the results of models with different layers\n",
    "\n",
    "In the rest of this colab, we will define models, and then see the results. \n",
    "\n",
    "Define a function that will take the model, compile it, train it, graph the accuracy and loss, and then predict some results."
   ]
  },
  {
   "cell_type": "code",
   "execution_count": 29,
   "metadata": {
    "id": "PevUcINXK3gn"
   },
   "outputs": [],
   "source": [
    "def fit_model_now (model, sentences) :\n",
    "  model.compile(loss='binary_crossentropy',optimizer='adam',metrics=['accuracy'])\n",
    "  model.summary()\n",
    "  history = model.fit(training_sequences, training_labels_final, epochs=num_epochs, \n",
    "                      validation_data=(testing_sequences, testing_labels_final))\n",
    "  return history\n",
    "\n",
    "def plot_results (history):\n",
    "  plot_graphs(history, \"accuracy\")\n",
    "  plot_graphs(history, \"loss\")\n",
    "\n",
    "def fit_model_and_show_results (model, sentences):\n",
    "  history = fit_model_now(model, sentences)\n",
    "  plot_results(history)\n",
    "  predict_review(model, sentences)"
   ]
  },
  {
   "cell_type": "markdown",
   "metadata": {
    "id": "U13JBiJUG1oq"
   },
   "source": [
    "# Add a bidirectional LSTM\n",
    "\n",
    "Create a new model that uses a bidirectional LSTM.\n",
    "\n",
    "Then use the function we have already defined to compile the model, train it, graph the accuracy and loss, then predict some results."
   ]
  },
  {
   "cell_type": "code",
   "execution_count": 30,
   "metadata": {
    "colab": {
     "base_uri": "https://localhost:8080/"
    },
    "id": "scTUsFPAG4zP",
    "outputId": "6cb55d09-54ba-4273-aafb-f9f12070a572"
   },
   "outputs": [
    {
     "name": "stdout",
     "output_type": "stream",
     "text": [
      "Model: \"sequential_4\"\n",
      "_________________________________________________________________\n",
      " Layer (type)                Output Shape              Param #   \n",
      "=================================================================\n",
      " embedding_4 (Embedding)     (None, 50, 16)            16000     \n",
      "                                                                 \n",
      " bidirectional_3 (Bidirectio  (None, 32)               4224      \n",
      " nal)                                                            \n",
      "                                                                 \n",
      " dense_8 (Dense)             (None, 6)                 198       \n",
      "                                                                 \n",
      " dense_9 (Dense)             (None, 1)                 7         \n",
      "                                                                 \n",
      "=================================================================\n",
      "Total params: 20,429\n",
      "Trainable params: 20,429\n",
      "Non-trainable params: 0\n",
      "_________________________________________________________________\n",
      "Epoch 1/30\n",
      "50/50 [==============================] - 5s 36ms/step - loss: 0.6928 - accuracy: 0.5204 - val_loss: 0.6905 - val_accuracy: 0.6541\n",
      "Epoch 2/30\n",
      "50/50 [==============================] - 1s 21ms/step - loss: 0.6780 - accuracy: 0.6416 - val_loss: 0.6359 - val_accuracy: 0.7318\n",
      "Epoch 3/30\n",
      "50/50 [==============================] - 1s 20ms/step - loss: 0.6087 - accuracy: 0.7250 - val_loss: 0.5804 - val_accuracy: 0.7043\n",
      "Epoch 4/30\n",
      "50/50 [==============================] - 1s 20ms/step - loss: 0.5307 - accuracy: 0.8136 - val_loss: 0.5648 - val_accuracy: 0.7494\n",
      "Epoch 5/30\n",
      "50/50 [==============================] - 1s 21ms/step - loss: 0.4764 - accuracy: 0.8569 - val_loss: 0.5816 - val_accuracy: 0.7644\n",
      "Epoch 6/30\n",
      "50/50 [==============================] - 1s 20ms/step - loss: 0.4260 - accuracy: 0.8820 - val_loss: 0.5805 - val_accuracy: 0.6842\n",
      "Epoch 7/30\n",
      "50/50 [==============================] - 1s 19ms/step - loss: 0.2925 - accuracy: 0.8920 - val_loss: 0.6559 - val_accuracy: 0.7218\n",
      "Epoch 8/30\n",
      "50/50 [==============================] - 1s 20ms/step - loss: 0.2294 - accuracy: 0.9247 - val_loss: 0.6839 - val_accuracy: 0.6917\n",
      "Epoch 9/30\n",
      "50/50 [==============================] - 1s 20ms/step - loss: 0.2045 - accuracy: 0.9322 - val_loss: 0.6674 - val_accuracy: 0.7444\n",
      "Epoch 10/30\n",
      "50/50 [==============================] - 1s 19ms/step - loss: 0.1741 - accuracy: 0.9492 - val_loss: 0.7225 - val_accuracy: 0.7469\n",
      "Epoch 11/30\n",
      "50/50 [==============================] - 1s 20ms/step - loss: 0.1519 - accuracy: 0.9579 - val_loss: 0.7968 - val_accuracy: 0.7619\n",
      "Epoch 12/30\n",
      "50/50 [==============================] - 1s 20ms/step - loss: 0.1292 - accuracy: 0.9661 - val_loss: 0.8795 - val_accuracy: 0.7594\n",
      "Epoch 13/30\n",
      "50/50 [==============================] - 1s 20ms/step - loss: 0.1182 - accuracy: 0.9699 - val_loss: 0.8956 - val_accuracy: 0.7519\n",
      "Epoch 14/30\n",
      "50/50 [==============================] - 1s 21ms/step - loss: 0.1244 - accuracy: 0.9642 - val_loss: 0.9239 - val_accuracy: 0.7444\n",
      "Epoch 15/30\n",
      "50/50 [==============================] - 1s 20ms/step - loss: 0.1072 - accuracy: 0.9749 - val_loss: 1.0120 - val_accuracy: 0.7444\n",
      "Epoch 16/30\n",
      "50/50 [==============================] - 1s 20ms/step - loss: 0.0995 - accuracy: 0.9724 - val_loss: 1.0532 - val_accuracy: 0.7569\n",
      "Epoch 17/30\n",
      "50/50 [==============================] - 1s 20ms/step - loss: 0.0861 - accuracy: 0.9780 - val_loss: 1.0866 - val_accuracy: 0.7494\n",
      "Epoch 18/30\n",
      "50/50 [==============================] - 1s 20ms/step - loss: 0.0793 - accuracy: 0.9824 - val_loss: 1.1279 - val_accuracy: 0.7444\n",
      "Epoch 19/30\n",
      "50/50 [==============================] - 1s 20ms/step - loss: 0.0608 - accuracy: 0.9887 - val_loss: 1.1710 - val_accuracy: 0.7544\n",
      "Epoch 20/30\n",
      "50/50 [==============================] - 1s 22ms/step - loss: 0.0573 - accuracy: 0.9893 - val_loss: 1.2302 - val_accuracy: 0.7544\n",
      "Epoch 21/30\n",
      "50/50 [==============================] - 1s 21ms/step - loss: 0.0559 - accuracy: 0.9893 - val_loss: 1.2588 - val_accuracy: 0.7544\n",
      "Epoch 22/30\n",
      "50/50 [==============================] - 1s 20ms/step - loss: 0.0553 - accuracy: 0.9893 - val_loss: 1.2940 - val_accuracy: 0.7544\n",
      "Epoch 23/30\n",
      "50/50 [==============================] - 1s 21ms/step - loss: 0.0548 - accuracy: 0.9893 - val_loss: 1.3087 - val_accuracy: 0.7619\n",
      "Epoch 24/30\n",
      "50/50 [==============================] - 1s 20ms/step - loss: 0.0536 - accuracy: 0.9893 - val_loss: 1.3127 - val_accuracy: 0.7569\n",
      "Epoch 25/30\n",
      "50/50 [==============================] - 1s 20ms/step - loss: 0.0520 - accuracy: 0.9900 - val_loss: 1.3527 - val_accuracy: 0.7594\n",
      "Epoch 26/30\n",
      "50/50 [==============================] - 1s 21ms/step - loss: 0.0510 - accuracy: 0.9900 - val_loss: 1.3732 - val_accuracy: 0.7569\n",
      "Epoch 27/30\n",
      "50/50 [==============================] - 1s 20ms/step - loss: 0.0505 - accuracy: 0.9900 - val_loss: 1.3997 - val_accuracy: 0.7494\n",
      "Epoch 28/30\n",
      "50/50 [==============================] - 1s 21ms/step - loss: 0.0487 - accuracy: 0.9906 - val_loss: 1.4566 - val_accuracy: 0.7594\n",
      "Epoch 29/30\n",
      "50/50 [==============================] - 1s 21ms/step - loss: 0.0475 - accuracy: 0.9912 - val_loss: 1.4369 - val_accuracy: 0.7569\n",
      "Epoch 30/30\n",
      "50/50 [==============================] - 1s 20ms/step - loss: 0.0456 - accuracy: 0.9912 - val_loss: 1.4583 - val_accuracy: 0.7519\n"
     ]
    },
    {
     "data": {
      "image/png": "[encoded data removed]",
      "text/plain": [
       "<Figure size 640x480 with 1 Axes>"
      ]
     },
     "metadata": {},
     "output_type": "display_data"
    },
    {
     "data": {
      "image/png": "[encoded data removed]",
      "text/plain": [
       "<Figure size 640x480 with 1 Axes>"
      ]
     },
     "metadata": {},
     "output_type": "display_data"
    },
    {
     "name": "stdout",
     "output_type": "stream",
     "text": [
      "WARNING:tensorflow:5 out of the last 8 calls to <function Model.make_predict_function.<locals>.predict_function at 0x0000018CA38CCAF0> triggered tf.function retracing. Tracing is expensive and the excessive number of tracings could be due to (1) creating @tf.function repeatedly in a loop, (2) passing tensors with different shapes, (3) passing Python objects instead of tensors. For (1), please define your @tf.function outside of the loop. For (2), @tf.function has reduce_retracing=True option that can avoid unnecessary retracing. For (3), please refer to https://www.tensorflow.org/guide/function#controlling_retracing and https://www.tensorflow.org/api_docs/python/tf/function for  more details.\n"
     ]
    },
    {
     "name": "stderr",
     "output_type": "stream",
     "text": [
      "WARNING:tensorflow:5 out of the last 8 calls to <function Model.make_predict_function.<locals>.predict_function at 0x0000018CA38CCAF0> triggered tf.function retracing. Tracing is expensive and the excessive number of tracings could be due to (1) creating @tf.function repeatedly in a loop, (2) passing tensors with different shapes, (3) passing Python objects instead of tensors. For (1), please define your @tf.function outside of the loop. For (2), @tf.function has reduce_retracing=True option that can avoid unnecessary retracing. For (3), please refer to https://www.tensorflow.org/guide/function#controlling_retracing and https://www.tensorflow.org/api_docs/python/tf/function for  more details.\n"
     ]
    },
    {
     "name": "stdout",
     "output_type": "stream",
     "text": [
      "1/1 [==============================] - 1s 658ms/step\n",
      "[  4 281  16  25   0   0   0   0   0   0   0   0   0   0   0   0   0   0\n",
      "   0   0   0   0   0   0   0   0   0   0   0   0   0   0   0   0   0   0\n",
      "   0   0   0   0   0   0   0   0   0   0   0   0   0   0]\n",
      "I love this phone\n",
      "[0.9873301]\n",
      "\n",
      "\n",
      "[812 227 864 100 775   9 525 843   0   0   0   0   0   0   0   0   0   0\n",
      "   0   0   0   0   0   0   0   0   0   0   0   0   0   0   0   0   0   0\n",
      "   0   0   0   0   0   0   0   0   0   0   0   0   0   0]\n",
      "Everything was cold\n",
      "[1.6634389e-05]\n",
      "\n",
      "\n",
      "[812 227 864 100 775   9 109   8 333 731  24  61   4 171  59  77   0   0\n",
      "   0   0   0   0   0   0   0   0   0   0   0   0   0   0   0   0   0   0\n",
      "   0   0   0   0   0   0   0   0   0   0   0   0   0   0]\n",
      "Everything was hot exactly as I wanted\n",
      "[0.9706396]\n",
      "\n",
      "\n",
      "[812 227 864 100 775   9 157 359 853   0   0   0   0   0   0   0   0   0\n",
      "   0   0   0   0   0   0   0   0   0   0   0   0   0   0   0   0   0   0\n",
      "   0   0   0   0   0   0   0   0   0   0   0   0   0   0]\n",
      "Everything was green\n",
      "[0.00012595]\n",
      "\n",
      "\n",
      "[  1 109 228 540 237 635 241 423 340  89 298   0   0   0   0   0   0   0\n",
      "   0   0   0   0   0   0   0   0   0   0   0   0   0   0   0   0   0   0\n",
      "   0   0   0   0   0   0   0   0   0   0   0   0   0   0]\n",
      "the host seated us immediately\n",
      "[0.98100865]\n",
      "\n",
      "\n",
      "[154 242  47 635 341  12 569 547 147 319 775 125  85   0   0   0   0   0\n",
      "   0   0   0   0   0   0   0   0   0   0   0   0   0   0   0   0   0   0\n",
      "   0   0   0   0   0   0   0   0   0   0   0   0   0   0]\n",
      "they gave us free chocolate cake\n",
      "[0.97968173]\n",
      "\n",
      "\n",
      "[158 190 853 782   8 607 775 210 232 146 775 470  67 305 101  15   1 328\n",
      " 296  26  19   1 661 641 195   0   0   0   0   0   0   0   0   0   0   0\n",
      "   0   0   0   0   0   0   0   0   0   0   0   0   0   0]\n",
      "we couldn't hear each other talk because of the shouting in the kitchen\n",
      "[4.491554e-08]\n",
      "\n",
      "\n"
     ]
    }
   ],
   "source": [
    "# Define the model\n",
    "model_bidi_lstm = tf.keras.Sequential([\n",
    "    tf.keras.layers.Embedding(vocab_size, embedding_dim, input_length=max_length),\n",
    "    tf.keras.layers.Bidirectional(tf.keras.layers.LSTM(embedding_dim)), \n",
    "    tf.keras.layers.Dense(6, activation='relu'), \n",
    "    tf.keras.layers.Dense(1, activation='sigmoid')\n",
    "])\n",
    "\n",
    "# Compile and train the model and then show the predictions for our extra sentences\n",
    "fit_model_and_show_results(model_bidi_lstm, fake_reviews)\n"
   ]
  },
  {
   "cell_type": "markdown",
   "metadata": {
    "id": "QsxKPbCnPJTj"
   },
   "source": [
    "# Use multiple bidirectional layers\n",
    "\n",
    "Now let's see if we get any improvements from adding another Bidirectional LSTM layer to the model.\n",
    "\n",
    "Notice that the first Bidirectionl LSTM layer returns a sequence."
   ]
  },
  {
   "cell_type": "code",
   "execution_count": 31,
   "metadata": {
    "id": "3N6Zul47PMED"
   },
   "outputs": [
    {
     "name": "stdout",
     "output_type": "stream",
     "text": [
      "Model: \"sequential_5\"\n",
      "_________________________________________________________________\n",
      " Layer (type)                Output Shape              Param #   \n",
      "=================================================================\n",
      " embedding_5 (Embedding)     (None, 50, 16)            16000     \n",
      "                                                                 \n",
      " bidirectional_4 (Bidirectio  (None, 50, 32)           4224      \n",
      " nal)                                                            \n",
      "                                                                 \n",
      " bidirectional_5 (Bidirectio  (None, 32)               6272      \n",
      " nal)                                                            \n",
      "                                                                 \n",
      " dense_10 (Dense)            (None, 6)                 198       \n",
      "                                                                 \n",
      " dense_11 (Dense)            (None, 1)                 7         \n",
      "                                                                 \n",
      "=================================================================\n",
      "Total params: 26,701\n",
      "Trainable params: 26,701\n",
      "Non-trainable params: 0\n",
      "_________________________________________________________________\n",
      "Epoch 1/30\n",
      "50/50 [==============================] - 9s 64ms/step - loss: 0.6901 - accuracy: 0.5154 - val_loss: 0.6971 - val_accuracy: 0.4110\n",
      "Epoch 2/30\n",
      "50/50 [==============================] - 2s 34ms/step - loss: 0.6028 - accuracy: 0.6422 - val_loss: 0.6384 - val_accuracy: 0.7118\n",
      "Epoch 3/30\n",
      "50/50 [==============================] - 2s 34ms/step - loss: 0.4815 - accuracy: 0.8393 - val_loss: 0.6781 - val_accuracy: 0.7218\n",
      "Epoch 4/30\n",
      "50/50 [==============================] - 2s 37ms/step - loss: 0.4375 - accuracy: 0.8606 - val_loss: 0.6283 - val_accuracy: 0.7544\n",
      "Epoch 5/30\n",
      "50/50 [==============================] - 2s 33ms/step - loss: 0.4211 - accuracy: 0.8669 - val_loss: 0.6652 - val_accuracy: 0.7419\n",
      "Epoch 6/30\n",
      "50/50 [==============================] - 2s 35ms/step - loss: 0.3323 - accuracy: 0.8719 - val_loss: 0.5656 - val_accuracy: 0.7619\n",
      "Epoch 7/30\n",
      "50/50 [==============================] - 2s 35ms/step - loss: 0.2755 - accuracy: 0.8939 - val_loss: 0.7276 - val_accuracy: 0.7368\n",
      "Epoch 8/30\n",
      "50/50 [==============================] - 2s 34ms/step - loss: 0.2284 - accuracy: 0.9190 - val_loss: 0.8073 - val_accuracy: 0.7519\n",
      "Epoch 9/30\n",
      "50/50 [==============================] - 2s 34ms/step - loss: 0.2034 - accuracy: 0.9303 - val_loss: 0.7634 - val_accuracy: 0.7368\n",
      "Epoch 10/30\n",
      "50/50 [==============================] - 2s 34ms/step - loss: 0.1895 - accuracy: 0.9397 - val_loss: 1.0404 - val_accuracy: 0.7343\n",
      "Epoch 11/30\n",
      "50/50 [==============================] - 2s 34ms/step - loss: 0.1823 - accuracy: 0.9429 - val_loss: 1.0410 - val_accuracy: 0.7368\n",
      "Epoch 12/30\n",
      "50/50 [==============================] - 2s 35ms/step - loss: 0.1624 - accuracy: 0.9510 - val_loss: 1.0964 - val_accuracy: 0.7393\n",
      "Epoch 13/30\n",
      "50/50 [==============================] - 2s 34ms/step - loss: 0.1867 - accuracy: 0.9404 - val_loss: 1.0192 - val_accuracy: 0.7318\n",
      "Epoch 14/30\n",
      "50/50 [==============================] - 2s 34ms/step - loss: 0.1813 - accuracy: 0.9429 - val_loss: 0.8629 - val_accuracy: 0.7519\n",
      "Epoch 15/30\n",
      "50/50 [==============================] - 2s 34ms/step - loss: 0.1449 - accuracy: 0.9567 - val_loss: 1.2246 - val_accuracy: 0.7168\n",
      "Epoch 16/30\n",
      "50/50 [==============================] - 2s 33ms/step - loss: 0.1409 - accuracy: 0.9605 - val_loss: 1.1762 - val_accuracy: 0.7293\n",
      "Epoch 17/30\n",
      "50/50 [==============================] - 2s 33ms/step - loss: 0.1350 - accuracy: 0.9592 - val_loss: 1.1585 - val_accuracy: 0.7444\n",
      "Epoch 18/30\n",
      "50/50 [==============================] - 2s 34ms/step - loss: 0.1257 - accuracy: 0.9648 - val_loss: 1.0897 - val_accuracy: 0.7444\n",
      "Epoch 19/30\n",
      "50/50 [==============================] - 2s 33ms/step - loss: 0.1203 - accuracy: 0.9674 - val_loss: 1.2786 - val_accuracy: 0.7494\n",
      "Epoch 20/30\n",
      "50/50 [==============================] - 2s 35ms/step - loss: 0.1395 - accuracy: 0.9611 - val_loss: 1.2629 - val_accuracy: 0.7318\n",
      "Epoch 21/30\n",
      "50/50 [==============================] - 2s 33ms/step - loss: 0.1336 - accuracy: 0.9605 - val_loss: 1.1589 - val_accuracy: 0.7469\n",
      "Epoch 22/30\n",
      "50/50 [==============================] - 2s 35ms/step - loss: 0.1369 - accuracy: 0.9598 - val_loss: 1.0548 - val_accuracy: 0.7419\n",
      "Epoch 23/30\n",
      "50/50 [==============================] - 2s 34ms/step - loss: 0.1252 - accuracy: 0.9642 - val_loss: 1.0938 - val_accuracy: 0.7494\n",
      "Epoch 24/30\n",
      "50/50 [==============================] - 2s 34ms/step - loss: 0.1188 - accuracy: 0.9686 - val_loss: 1.2297 - val_accuracy: 0.7469\n",
      "Epoch 25/30\n",
      "50/50 [==============================] - 2s 36ms/step - loss: 0.1222 - accuracy: 0.9655 - val_loss: 1.2074 - val_accuracy: 0.7469\n",
      "Epoch 26/30\n",
      "50/50 [==============================] - 2s 36ms/step - loss: 0.1182 - accuracy: 0.9680 - val_loss: 1.3102 - val_accuracy: 0.7268\n",
      "Epoch 27/30\n",
      "50/50 [==============================] - 2s 33ms/step - loss: 0.1126 - accuracy: 0.9699 - val_loss: 1.2892 - val_accuracy: 0.7218\n",
      "Epoch 28/30\n",
      "50/50 [==============================] - 2s 34ms/step - loss: 0.1224 - accuracy: 0.9661 - val_loss: 1.0820 - val_accuracy: 0.7469\n",
      "Epoch 29/30\n",
      "50/50 [==============================] - 2s 34ms/step - loss: 0.1304 - accuracy: 0.9630 - val_loss: 1.2646 - val_accuracy: 0.7393\n",
      "Epoch 30/30\n",
      "50/50 [==============================] - 2s 32ms/step - loss: 0.1120 - accuracy: 0.9692 - val_loss: 1.3485 - val_accuracy: 0.7469\n"
     ]
    },
    {
     "data": {
      "image/png": "[encoded data removed]",
      "text/plain": [
       "<Figure size 640x480 with 1 Axes>"
      ]
     },
     "metadata": {},
     "output_type": "display_data"
    },
    {
     "data": {
      "image/png": "[encoded data removed]",
      "text/plain": [
       "<Figure size 640x480 with 1 Axes>"
      ]
     },
     "metadata": {},
     "output_type": "display_data"
    },
    {
     "name": "stdout",
     "output_type": "stream",
     "text": [
      "WARNING:tensorflow:6 out of the last 9 calls to <function Model.make_predict_function.<locals>.predict_function at 0x0000018CB1C57310> triggered tf.function retracing. Tracing is expensive and the excessive number of tracings could be due to (1) creating @tf.function repeatedly in a loop, (2) passing tensors with different shapes, (3) passing Python objects instead of tensors. For (1), please define your @tf.function outside of the loop. For (2), @tf.function has reduce_retracing=True option that can avoid unnecessary retracing. For (3), please refer to https://www.tensorflow.org/guide/function#controlling_retracing and https://www.tensorflow.org/api_docs/python/tf/function for  more details.\n"
     ]
    },
    {
     "name": "stderr",
     "output_type": "stream",
     "text": [
      "WARNING:tensorflow:6 out of the last 9 calls to <function Model.make_predict_function.<locals>.predict_function at 0x0000018CB1C57310> triggered tf.function retracing. Tracing is expensive and the excessive number of tracings could be due to (1) creating @tf.function repeatedly in a loop, (2) passing tensors with different shapes, (3) passing Python objects instead of tensors. For (1), please define your @tf.function outside of the loop. For (2), @tf.function has reduce_retracing=True option that can avoid unnecessary retracing. For (3), please refer to https://www.tensorflow.org/guide/function#controlling_retracing and https://www.tensorflow.org/api_docs/python/tf/function for  more details.\n"
     ]
    },
    {
     "name": "stdout",
     "output_type": "stream",
     "text": [
      "1/1 [==============================] - 2s 2s/step\n",
      "[  4 281  16  25   0   0   0   0   0   0   0   0   0   0   0   0   0   0\n",
      "   0   0   0   0   0   0   0   0   0   0   0   0   0   0   0   0   0   0\n",
      "   0   0   0   0   0   0   0   0   0   0   0   0   0   0]\n",
      "I love this phone\n",
      "[0.9996408]\n",
      "\n",
      "\n",
      "[812 227 864 100 775   9 525 843   0   0   0   0   0   0   0   0   0   0\n",
      "   0   0   0   0   0   0   0   0   0   0   0   0   0   0   0   0   0   0\n",
      "   0   0   0   0   0   0   0   0   0   0   0   0   0   0]\n",
      "Everything was cold\n",
      "[0.05651703]\n",
      "\n",
      "\n",
      "[812 227 864 100 775   9 109   8 333 731  24  61   4 171  59  77   0   0\n",
      "   0   0   0   0   0   0   0   0   0   0   0   0   0   0   0   0   0   0\n",
      "   0   0   0   0   0   0   0   0   0   0   0   0   0   0]\n",
      "Everything was hot exactly as I wanted\n",
      "[0.12673719]\n",
      "\n",
      "\n",
      "[812 227 864 100 775   9 157 359 853   0   0   0   0   0   0   0   0   0\n",
      "   0   0   0   0   0   0   0   0   0   0   0   0   0   0   0   0   0   0\n",
      "   0   0   0   0   0   0   0   0   0   0   0   0   0   0]\n",
      "Everything was green\n",
      "[0.05482185]\n",
      "\n",
      "\n",
      "[  1 109 228 540 237 635 241 423 340  89 298   0   0   0   0   0   0   0\n",
      "   0   0   0   0   0   0   0   0   0   0   0   0   0   0   0   0   0   0\n",
      "   0   0   0   0   0   0   0   0   0   0   0   0   0   0]\n",
      "the host seated us immediately\n",
      "[0.99935657]\n",
      "\n",
      "\n",
      "[154 242  47 635 341  12 569 547 147 319 775 125  85   0   0   0   0   0\n",
      "   0   0   0   0   0   0   0   0   0   0   0   0   0   0   0   0   0   0\n",
      "   0   0   0   0   0   0   0   0   0   0   0   0   0   0]\n",
      "they gave us free chocolate cake\n",
      "[0.99998546]\n",
      "\n",
      "\n",
      "[158 190 853 782   8 607 775 210 232 146 775 470  67 305 101  15   1 328\n",
      " 296  26  19   1 661 641 195   0   0   0   0   0   0   0   0   0   0   0\n",
      "   0   0   0   0   0   0   0   0   0   0   0   0   0   0]\n",
      "we couldn't hear each other talk because of the shouting in the kitchen\n",
      "[0.05177084]\n",
      "\n",
      "\n"
     ]
    }
   ],
   "source": [
    "model_multiple_bidi_lstm = tf.keras.Sequential([\n",
    "    tf.keras.layers.Embedding(vocab_size, embedding_dim, input_length=max_length),\n",
    "    tf.keras.layers.Bidirectional(tf.keras.layers.LSTM(embedding_dim, \n",
    "                                                       return_sequences=True)), \n",
    "    tf.keras.layers.Bidirectional(tf.keras.layers.LSTM(embedding_dim)),\n",
    "    tf.keras.layers.Dense(6, activation='relu'),\n",
    "    tf.keras.layers.Dense(1, activation='sigmoid')\n",
    "])\n",
    "\n",
    "fit_model_and_show_results(model_multiple_bidi_lstm, fake_reviews)"
   ]
  },
  {
   "cell_type": "markdown",
   "metadata": {
    "id": "ABVYYPwba8Hx"
   },
   "source": [
    "# Compare predictions for all the models\n",
    "\n",
    "It can be hard to see which model gives a better prediction for different reviews when you examine each model separately. So for comparison purposes, here we define some more reviews and print out the predictions that each of the three models gives for each review:\n",
    "\n",
    "*   Embeddings and a Global Average Pooling layer\n",
    "*   Embeddings and a Bidirectional LSTM layer\n",
    "*   Embeddings and two Bidirectional LSTM layers\n",
    "\n",
    "The results are not always what you might expect. The input dataset is fairly small, it has less than 2000 reviews. Some of the reviews are fairly short, and some of the short ones are fairly repetitive which reduces their impact on improving the  model, such as these two reviews:\n",
    "\n",
    "*   Bad Quality.\n",
    "*   Low Quality.\n",
    "\n",
    "Feel free to add more reviews of your own, or change the reviews. The results will depend on the combination of words in the reviews, and how well they match to reviews in the training set. \n",
    "\n",
    "How do the different models handle things like \"wasn't good\" which contains a positive word (good) but is a poor review?\n"
   ]
  },
  {
   "cell_type": "code",
   "execution_count": 21,
   "metadata": {
    "id": "6XebrXt0jtOy"
   },
   "outputs": [],
   "source": [
    "my_reviews =[\"lovely\", \"dreadful\", \"stay away\",\n",
    "             \"everything was hot exactly as I wanted\",\n",
    "             \"everything was not exactly as I wanted\",\n",
    "             \"they gave us free chocolate cake\",\n",
    "             \"I've never eaten anything so spicy in my life, my throat burned for hours\",\n",
    "             \"for a phone that is as expensive as this one I expect it to be much easier to use than this thing is\",\n",
    "             \"we left there very full for a low price so I'd say you just can't go wrong at this place\",\n",
    "             \"that place does not have quality meals and it isn't a good place to go for dinner\",\n",
    "             ]"
   ]
  },
  {
   "cell_type": "code",
   "execution_count": 32,
   "metadata": {
    "id": "tRWGjkJLkY2y"
   },
   "outputs": [
    {
     "name": "stdout",
     "output_type": "stream",
     "text": [
      "===================================\n",
      " Embeddings only:\n",
      " ===================================\n",
      "1/1 [==============================] - 0s 23ms/step\n",
      "lovely\n",
      "[0.9161388]\n",
      "\n",
      "\n",
      "dreadful\n",
      "[0.37416828]\n",
      "\n",
      "\n",
      "stay away\n",
      "[0.6612843]\n",
      "\n",
      "\n",
      "everything was hot exactly as I wanted\n",
      "[0.7430726]\n",
      "\n",
      "\n",
      "everything was not exactly as I wanted\n",
      "[0.4997564]\n",
      "\n",
      "\n",
      "they gave us free chocolate cake\n",
      "[0.7505373]\n",
      "\n",
      "\n",
      "I've never eaten anything so spicy in my life, my throat burned for hours\n",
      "[0.03465713]\n",
      "\n",
      "\n",
      "for a phone that is as expensive as this one I expect it to be much easier to use than this thing is\n",
      "[0.534411]\n",
      "\n",
      "\n",
      "we left there very full for a low price so I'd say you just can't go wrong at this place\n",
      "[0.8392939]\n",
      "\n",
      "\n",
      "that place does not have quality meals and it isn't a good place to go for dinner\n",
      "[0.8502852]\n",
      "\n",
      "\n"
     ]
    }
   ],
   "source": [
    "print(\"===================================\\n\",\"Embeddings only:\\n\", \"===================================\",)\n",
    "predict_review(model, my_reviews, show_padded_sequence=False)"
   ]
  },
  {
   "cell_type": "code",
   "execution_count": 33,
   "metadata": {
    "id": "G2FJR3IVBt30"
   },
   "outputs": [
    {
     "name": "stdout",
     "output_type": "stream",
     "text": [
      "===================================\n",
      " With a single bidirectional LSTM:\n",
      " ===================================\n",
      "1/1 [==============================] - 0s 30ms/step\n",
      "lovely\n",
      "[0.9853821]\n",
      "\n",
      "\n",
      "dreadful\n",
      "[2.765427e-05]\n",
      "\n",
      "\n",
      "stay away\n",
      "[0.44347313]\n",
      "\n",
      "\n",
      "everything was hot exactly as I wanted\n",
      "[0.9805252]\n",
      "\n",
      "\n",
      "everything was not exactly as I wanted\n",
      "[0.7956293]\n",
      "\n",
      "\n",
      "they gave us free chocolate cake\n",
      "[0.97968173]\n",
      "\n",
      "\n",
      "I've never eaten anything so spicy in my life, my throat burned for hours\n",
      "[2.7913284e-08]\n",
      "\n",
      "\n",
      "for a phone that is as expensive as this one I expect it to be much easier to use than this thing is\n",
      "[0.97989273]\n",
      "\n",
      "\n",
      "we left there very full for a low price so I'd say you just can't go wrong at this place\n",
      "[0.5905283]\n",
      "\n",
      "\n",
      "that place does not have quality meals and it isn't a good place to go for dinner\n",
      "[0.01296526]\n",
      "\n",
      "\n"
     ]
    }
   ],
   "source": [
    "print(\"===================================\\n\", \"With a single bidirectional LSTM:\\n\", \"===================================\")\n",
    "predict_review(model_bidi_lstm, my_reviews, show_padded_sequence=False)"
   ]
  },
  {
   "cell_type": "code",
   "execution_count": 34,
   "metadata": {
    "id": "81v1r3Y2BwvC"
   },
   "outputs": [
    {
     "name": "stdout",
     "output_type": "stream",
     "text": [
      "===================================\n",
      " With two bidirectional LSTMs:\n",
      " ===================================\n",
      "1/1 [==============================] - 0s 37ms/step\n",
      "lovely\n",
      "[0.9998841]\n",
      "\n",
      "\n",
      "dreadful\n",
      "[0.28480342]\n",
      "\n",
      "\n",
      "stay away\n",
      "[0.05836725]\n",
      "\n",
      "\n",
      "everything was hot exactly as I wanted\n",
      "[0.94889206]\n",
      "\n",
      "\n",
      "everything was not exactly as I wanted\n",
      "[0.05815523]\n",
      "\n",
      "\n",
      "they gave us free chocolate cake\n",
      "[0.99998546]\n",
      "\n",
      "\n",
      "I've never eaten anything so spicy in my life, my throat burned for hours\n",
      "[0.04997723]\n",
      "\n",
      "\n",
      "for a phone that is as expensive as this one I expect it to be much easier to use than this thing is\n",
      "[0.05212185]\n",
      "\n",
      "\n",
      "we left there very full for a low price so I'd say you just can't go wrong at this place\n",
      "[0.05427491]\n",
      "\n",
      "\n",
      "that place does not have quality meals and it isn't a good place to go for dinner\n",
      "[0.05478837]\n",
      "\n",
      "\n"
     ]
    }
   ],
   "source": [
    "print(\"===================================\\n\",\"With two bidirectional LSTMs:\\n\", \"===================================\")\n",
    "predict_review(model_multiple_bidi_lstm, my_reviews, show_padded_sequence=False)"
   ]
  },
  {
   "cell_type": "code",
   "execution_count": null,
   "metadata": {},
   "outputs": [],
   "source": []
  }
 ],
 "metadata": {
  "accelerator": "GPU",
  "colab": {
   "name": "l10c01_nlp_lstms_with_reviews_subwords_dataset.ipynb",
   "provenance": [],
   "toc_visible": true
  },
  "kernelspec": {
   "display_name": "Python 3",
   "language": "python",
   "name": "python3"
  },
  "language_info": {
   "codemirror_mode": {
    "name": "ipython",
    "version": 3
   },
   "file_extension": ".py",
   "mimetype": "text/x-python",
   "name": "python",
   "nbconvert_exporter": "python",
   "pygments_lexer": "ipython3",
   "version": "3.9.6"
  },
  "vscode": {
   "interpreter": {
    "hash": "694f7013b8222f320a1f5659e432991065b389605aaf3bf46a23c702e681f648"
   }
  }
 },
 "nbformat": 4,
 "nbformat_minor": 1
}

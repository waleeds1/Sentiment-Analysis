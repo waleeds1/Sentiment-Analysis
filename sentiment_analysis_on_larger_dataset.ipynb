{
  "cells": [
    {
      "cell_type": "markdown",
      "metadata": {
        "id": "punL79CN7Ox6"
      },
      "source": [
        "##### Copyright 2020 The TensorFlow Authors."
      ]
    },
    {
      "cell_type": "code",
      "execution_count": 1,
      "metadata": {
        "cellView": "form",
        "id": "_ckMIh7O7s6D"
      },
      "outputs": [],
      "source": [
        "#@title Licensed under the Apache License, Version 2.0 (the \"License\");\n",
        "# you may not use this file except in compliance with the License.\n",
        "# You may obtain a copy of the License at\n",
        "#\n",
        "# https://www.apache.org/licenses/LICENSE-2.0\n",
        "#\n",
        "# Unless required by applicable law or agreed to in writing, software\n",
        "# distributed under the License is distributed on an \"AS IS\" BASIS,\n",
        "# WITHOUT WARRANTIES OR CONDITIONS OF ANY KIND, either express or implied.\n",
        "# See the License for the specific language governing permissions and\n",
        "# limitations under the License."
      ]
    },
    {
      "cell_type": "markdown",
      "metadata": {
        "id": "hAclqSm3OOml"
      },
      "source": [
        "# Using LSTMs, CNNs, GRUs with a larger dataset"
      ]
    },
    {
      "cell_type": "markdown",
      "metadata": {
        "id": "S5Uhzt6vVIB2"
      },
      "source": [
        "<table class=\"tfo-notebook-buttons\" align=\"left\">\n",
        "  <td>\n",
        "    <a target=\"_blank\" href=\"https://colab.research.google.com/github/tensorflow/examples/blob/master/courses/udacity_intro_to_tensorflow_for_deep_learning/l10c02_nlp_multiple_models_for_predicting_sentiment.ipynb\"><img src=\"https://www.tensorflow.org/images/colab_logo_32px.png\" />Run in Google Colab</a>\n",
        "  </td>\n",
        "  <td>\n",
        "    <a target=\"_blank\" href=\"https://github.com/tensorflow/examples/blob/master/courses/udacity_intro_to_tensorflow_for_deep_learning/l10c02_nlp_multiple_models_for_predicting_sentiment.ipynb\"><img src=\"https://www.tensorflow.org/images/GitHub-Mark-32px.png\" />View source on GitHub</a>\n",
        "  </td>\n",
        "</table>"
      ]
    },
    {
      "cell_type": "markdown",
      "metadata": {
        "id": "fentd-GnIj-j"
      },
      "source": [
        "In this colab, you use different kinds of layers to see how they affect the model.\n",
        "\n",
        "You will use the glue/sst2 dataset, which is available through tensorflow_datasets. \n",
        "\n",
        "The General Language Understanding Evaluation (GLUE) benchmark (https://gluebenchmark.com/) is a collection of resources for training, evaluating, and analyzing natural language understanding systems.\n",
        "\n",
        "These resources include the Stanford Sentiment Treebank (SST) dataset that consists of sentences from movie reviews and human annotations of their sentiment. This colab uses version 2 of the SST dataset.\n",
        "\n",
        "The splits are:\n",
        "\n",
        "*   train\t67,349\n",
        "*   validation\t872\n",
        "\n",
        "\n",
        "and the column headings are:\n",
        "\n",
        "*   sentence\n",
        "*   label\n",
        "\n",
        "\n",
        "For more information about the dataset, see [https://www.tensorflow.org/datasets/catalog/glue#gluesst2](https://www.tensorflow.org/datasets/catalog/glue#gluesst2)"
      ]
    },
    {
      "cell_type": "code",
      "execution_count": 2,
      "metadata": {
        "id": "L62G7LTwNzoD"
      },
      "outputs": [],
      "source": [
        "import tensorflow as tf\n",
        "import tensorflow_datasets as tfds\n",
        "\n",
        "import numpy as np"
      ]
    },
    {
      "cell_type": "markdown",
      "metadata": {
        "id": "o2P6xdtIJMyc"
      },
      "source": [
        "# Get the dataset\n"
      ]
    },
    {
      "cell_type": "code",
      "execution_count": 3,
      "metadata": {
        "id": "nCOtiRJZbxCH"
      },
      "outputs": [
        {
          "name": "stdout",
          "output_type": "stream",
          "text": [
            "\u001b[1mDownloading and preparing dataset Unknown size (download: Unknown size, generated: Unknown size, total: Unknown size) to C:\\Users\\walee\\tensorflow_datasets\\glue\\sst2\\2.0.0...\u001b[0m\n"
          ]
        },
        {
          "name": "stderr",
          "output_type": "stream",
          "text": [
            "Dl Completed...: 0 url [00:00, ? url/s]\n",
            "Dl Completed...:   0%|          | 0/1 [00:00<?, ? url/s]\n",
            "Dl Completed...:   0%|          | 0/1 [00:01<?, ? url/s]\n",
            "Dl Completed...:   0%|          | 0/1 [00:03<?, ? url/s]\n",
            "Dl Completed...:   0%|          | 0/1 [00:05<?, ? url/s]\n",
            "Dl Completed...:   0%|          | 0/1 [00:06<?, ? url/s]\n",
            "Dl Completed...:   0%|          | 0/1 [00:08<?, ? url/s]\n",
            "Dl Completed...:   0%|          | 0/1 [00:10<?, ? url/s]\n",
            "Dl Completed...:   0%|          | 0/1 [00:12<?, ? url/s]\n",
            "Dl Completed...:   0%|          | 0/1 [00:13<?, ? url/s]\n",
            "Dl Completed...: 100%|██████████| 1/1 [00:13<00:00, 13.93s/ url]\n",
            "Dl Completed...: 100%|██████████| 1/1 [00:13<00:00, 13.93s/ url]\n",
            "Dl Completed...: 100%|██████████| 1/1 [00:13<00:00, 13.93s/ url]\n",
            "Dl Completed...: 100%|██████████| 1/1 [00:13<00:00, 13.93s/ url]\n",
            "Dl Completed...: 100%|██████████| 1/1 [00:14<00:00, 13.93s/ url]\n",
            "Dl Completed...: 100%|██████████| 1/1 [00:14<00:00, 13.93s/ url]\n",
            "Dl Completed...: 100%|██████████| 1/1 [00:14<00:00, 13.93s/ url]\n",
            "Dl Completed...: 100%|██████████| 1/1 [00:14<00:00, 13.93s/ url]\n",
            "Dl Completed...: 100%|██████████| 1/1 [00:14<00:00, 13.93s/ url]\n",
            "Dl Completed...: 100%|██████████| 1/1 [00:14<00:00, 13.93s/ url]\n",
            "Dl Completed...: 100%|██████████| 1/1 [00:14<00:00, 13.93s/ url]\n",
            "Dl Completed...: 100%|██████████| 1/1 [00:14<00:00, 13.93s/ url]\n",
            "\u001b[A\n",
            "Dl Completed...: 100%|██████████| 1/1 [00:14<00:00, 13.93s/ url]\n",
            "Dl Completed...: 100%|██████████| 1/1 [00:14<00:00, 13.93s/ url]\n",
            "Dl Completed...: 100%|██████████| 1/1 [00:14<00:00, 13.93s/ url]\n",
            "Dl Completed...: 100%|██████████| 1/1 [00:14<00:00, 13.93s/ url]\n",
            "Dl Completed...: 100%|██████████| 1/1 [00:14<00:00, 13.93s/ url]\n",
            "Dl Completed...: 100%|██████████| 1/1 [00:14<00:00, 13.93s/ url]\n",
            "Dl Completed...: 100%|██████████| 1/1 [00:14<00:00, 13.93s/ url]\n",
            "Dl Completed...: 100%|██████████| 1/1 [00:14<00:00, 13.93s/ url]\n",
            "Dl Completed...: 100%|██████████| 1/1 [00:14<00:00, 13.93s/ url]\n",
            "Dl Completed...: 100%|██████████| 1/1 [00:14<00:00, 13.93s/ url]\n",
            "Dl Completed...: 100%|██████████| 1/1 [00:14<00:00, 13.93s/ url]\n",
            "Extraction completed...: 100%|██████████| 11/11 [00:14<00:00,  1.31s/ file]\n",
            "Dl Size...: 100%|██████████| 7/7 [00:14<00:00,  2.05s/ MiB]\n",
            "Dl Completed...: 100%|██████████| 1/1 [00:14<00:00, 14.37s/ url]\n",
            "                                                                        \r"
          ]
        },
        {
          "name": "stdout",
          "output_type": "stream",
          "text": [
            "\u001b[1mDataset glue downloaded and prepared to C:\\Users\\walee\\tensorflow_datasets\\glue\\sst2\\2.0.0. Subsequent calls will reuse this data.\u001b[0m\n",
            "FeaturesDict({\n",
            "    'idx': int32,\n",
            "    'label': ClassLabel(shape=(), dtype=int64, num_classes=2),\n",
            "    'sentence': Text(shape=(), dtype=string),\n",
            "})\n",
            "2\n",
            "['negative', 'positive']\n"
          ]
        }
      ],
      "source": [
        "# Get the dataset.\n",
        "# It has 70000 items, so might take a while to download\n",
        "dataset, info = tfds.load('glue/sst2', with_info=True)\n",
        "print(info.features)\n",
        "print(info.features[\"label\"].num_classes)\n",
        "print(info.features[\"label\"].names)\n"
      ]
    },
    {
      "cell_type": "code",
      "execution_count": 4,
      "metadata": {
        "id": "yBMPhIdStAe2"
      },
      "outputs": [
        {
          "data": {
            "text/plain": [
              "<PrefetchDataset shapes: {idx: (), label: (), sentence: ()}, types: {idx: tf.int32, label: tf.int64, sentence: tf.string}>"
            ]
          },
          "execution_count": 4,
          "metadata": {},
          "output_type": "execute_result"
        }
      ],
      "source": [
        "# Get the training and validation datasets\n",
        "dataset_train, dataset_validation = dataset['train'], dataset['validation']\n",
        "dataset_train"
      ]
    },
    {
      "cell_type": "code",
      "execution_count": 5,
      "metadata": {
        "id": "jbZ-faiNWu1U"
      },
      "outputs": [
        {
          "name": "stdout",
          "output_type": "stream",
          "text": [
            "Review: tf.Tensor(b'for the uninitiated plays better on video with the sound ', shape=(), dtype=string)\n",
            "Label: 0 \n",
            "\n",
            "Review: tf.Tensor(b'like a giant commercial for universal studios , where much of the action takes place ', shape=(), dtype=string)\n",
            "Label: 0 \n",
            "\n"
          ]
        }
      ],
      "source": [
        "# Print some of the entries\n",
        "for example in dataset_train.take(2):  \n",
        "  review, label = example[\"sentence\"], example[\"label\"]\n",
        "  print(\"Review:\", review)\n",
        "  print(\"Label: %d \\n\" % label.numpy())"
      ]
    },
    {
      "cell_type": "code",
      "execution_count": 6,
      "metadata": {
        "id": "_fVZItTeZSbL"
      },
      "outputs": [
        {
          "name": "stdout",
          "output_type": "stream",
          "text": [
            "\n",
            "Number of training reviews is:  10000\n",
            "b'for the uninitiated plays better on video with the sound '\n",
            "0\n",
            "b'like a giant commercial for universal studios , where much of the action takes place '\n",
            "0\n",
            "\n",
            "Number of validation reviews is:  872\n",
            "b'a valueless kiddie paean to pro basketball underwritten by the nba . '\n",
            "0\n",
            "b\"featuring a dangerously seductive performance from the great daniel auteuil , `` sade '' covers the same period as kaufmann 's `` quills '' with more unsettlingly realistic results . \"\n",
            "1\n"
          ]
        }
      ],
      "source": [
        "# Get the sentences and the labels\n",
        "# for both the training and the validation sets\n",
        "training_reviews = []\n",
        "training_labels = []\n",
        " \n",
        "validation_reviews = []\n",
        "validation_labels = []\n",
        "\n",
        "# The dataset has 67,000 training entries, but that's a lot to process here!\n",
        "\n",
        "# If you want to take the entire dataset: WARNING: takes longer!!\n",
        "# for item in dataset_train.take(-1):\n",
        "\n",
        "# Take 10,000 reviews\n",
        "for item in dataset_train.take(10000):\n",
        "  review, label = item[\"sentence\"], item[\"label\"]\n",
        "  training_reviews.append(str(review.numpy()))\n",
        "  training_labels.append(label.numpy())\n",
        "\n",
        "print (\"\\nNumber of training reviews is: \", len(training_reviews))\n",
        "\n",
        "# print some of the reviews and labels\n",
        "for i in range(0, 2):\n",
        "  print (training_reviews[i])\n",
        "  print (training_labels[i])\n",
        "\n",
        "# Get the validation data\n",
        "# there's only about 800 items, so take them all\n",
        "for item in dataset_validation.take(-1):  \n",
        "  review, label = item[\"sentence\"], item[\"label\"]\n",
        "  validation_reviews.append(str(review.numpy()))\n",
        "  validation_labels.append(label.numpy())\n",
        "\n",
        "print (\"\\nNumber of validation reviews is: \", len(validation_reviews))\n",
        "\n",
        "# Print some of the validation reviews and labels\n",
        "for i in range(0, 2):\n",
        "  print (validation_reviews[i])\n",
        "  print (validation_labels[i])\n"
      ]
    },
    {
      "cell_type": "markdown",
      "metadata": {
        "id": "BY4ZoptJO55o"
      },
      "source": [
        "# Tokenize the words and sequence the sentences\n"
      ]
    },
    {
      "cell_type": "code",
      "execution_count": 7,
      "metadata": {
        "id": "0TWLvXA1Oa_W"
      },
      "outputs": [],
      "source": [
        "# There's a total of 21224 words in the reviews\n",
        "# but many of them are irrelevant like with, it, of, on.\n",
        "# If we take a subset of the training data, then the vocab\n",
        "# will be smaller.\n",
        "\n",
        "# A reasonable review might have about 50 words or so,\n",
        "# so we can set max_length to 50 (but feel free to change it as you like)\n",
        "\n",
        "vocab_size = 4000\n",
        "embedding_dim = 16\n",
        "max_length = 50\n",
        "trunc_type='post'\n",
        "pad_type='post'\n",
        "oov_tok = \"<OOV>\"\n",
        "\n",
        "from tensorflow.keras.preprocessing.text import Tokenizer\n",
        "from tensorflow.keras.preprocessing.sequence import pad_sequences\n",
        "\n",
        "tokenizer = Tokenizer(num_words = vocab_size, oov_token=oov_tok)\n",
        "tokenizer.fit_on_texts(training_reviews)\n",
        "word_index = tokenizer.word_index\n"
      ]
    },
    {
      "cell_type": "markdown",
      "metadata": {
        "id": "JV-Ff5N0ryWv"
      },
      "source": [
        "# Pad the sequences"
      ]
    },
    {
      "cell_type": "code",
      "execution_count": 8,
      "metadata": {
        "id": "B-3scEznH2Va"
      },
      "outputs": [],
      "source": [
        "# Pad the sequences so that they are all the same length\n",
        "training_sequences = tokenizer.texts_to_sequences(training_reviews)\n",
        "training_padded = pad_sequences(training_sequences,maxlen=max_length, \n",
        "                                truncating=trunc_type, padding=pad_type)\n",
        "\n",
        "validation_sequences = tokenizer.texts_to_sequences(validation_reviews)\n",
        "validation_padded = pad_sequences(validation_sequences,maxlen=max_length)\n",
        "\n",
        "training_labels_final = np.array(training_labels)\n",
        "validation_labels_final = np.array(validation_labels)"
      ]
    },
    {
      "cell_type": "markdown",
      "metadata": {
        "id": "PahZm7YEQ8EI"
      },
      "source": [
        "# Create the model using an Embedding"
      ]
    },
    {
      "cell_type": "code",
      "execution_count": 9,
      "metadata": {
        "id": "c_nyQeI0RCCv"
      },
      "outputs": [
        {
          "name": "stdout",
          "output_type": "stream",
          "text": [
            "Model: \"sequential\"\n",
            "_________________________________________________________________\n",
            "Layer (type)                 Output Shape              Param #   \n",
            "=================================================================\n",
            "embedding (Embedding)        (None, 50, 16)            64000     \n",
            "_________________________________________________________________\n",
            "global_average_pooling1d (Gl (None, 16)                0         \n",
            "_________________________________________________________________\n",
            "dense (Dense)                (None, 1)                 17        \n",
            "=================================================================\n",
            "Total params: 64,017\n",
            "Trainable params: 64,017\n",
            "Non-trainable params: 0\n",
            "_________________________________________________________________\n"
          ]
        }
      ],
      "source": [
        "model = tf.keras.Sequential([\n",
        "    tf.keras.layers.Embedding(vocab_size, embedding_dim, input_length=max_length),\n",
        "    tf.keras.layers.GlobalAveragePooling1D(),  \n",
        "    tf.keras.layers.Dense(1, activation='sigmoid')\n",
        "])\n",
        "model.compile(loss='binary_crossentropy',optimizer='adam',metrics=['accuracy'])\n",
        "model.summary()"
      ]
    },
    {
      "cell_type": "markdown",
      "metadata": {
        "id": "3WRXrx8BRO2L"
      },
      "source": [
        "# Train the model"
      ]
    },
    {
      "cell_type": "code",
      "execution_count": 10,
      "metadata": {
        "id": "oBKyVYvxRQ_9"
      },
      "outputs": [
        {
          "name": "stdout",
          "output_type": "stream",
          "text": [
            "Epoch 1/20\n",
            "313/313 [==============================] - 4s 6ms/step - loss: 0.6838 - accuracy: 0.5593 - val_loss: 0.6882 - val_accuracy: 0.5161\n",
            "Epoch 2/20\n",
            "313/313 [==============================] - 2s 5ms/step - loss: 0.6724 - accuracy: 0.5714 - val_loss: 0.6723 - val_accuracy: 0.5929\n",
            "Epoch 3/20\n",
            "313/313 [==============================] - 2s 5ms/step - loss: 0.6516 - accuracy: 0.6219 - val_loss: 0.6457 - val_accuracy: 0.6422\n",
            "Epoch 4/20\n",
            "313/313 [==============================] - 2s 5ms/step - loss: 0.6225 - accuracy: 0.6734 - val_loss: 0.6150 - val_accuracy: 0.6938\n",
            "Epoch 5/20\n",
            "313/313 [==============================] - 2s 5ms/step - loss: 0.5902 - accuracy: 0.7085 - val_loss: 0.5844 - val_accuracy: 0.7167\n",
            "Epoch 6/20\n",
            "313/313 [==============================] - 2s 5ms/step - loss: 0.5572 - accuracy: 0.7410 - val_loss: 0.5572 - val_accuracy: 0.7271\n",
            "Epoch 7/20\n",
            "313/313 [==============================] - 2s 5ms/step - loss: 0.5267 - accuracy: 0.7677 - val_loss: 0.5358 - val_accuracy: 0.7454\n",
            "Epoch 8/20\n",
            "313/313 [==============================] - 2s 5ms/step - loss: 0.4977 - accuracy: 0.7852 - val_loss: 0.5171 - val_accuracy: 0.7592\n",
            "Epoch 9/20\n",
            "313/313 [==============================] - 2s 5ms/step - loss: 0.4723 - accuracy: 0.8054 - val_loss: 0.5059 - val_accuracy: 0.7443\n",
            "Epoch 10/20\n",
            "313/313 [==============================] - 2s 6ms/step - loss: 0.4496 - accuracy: 0.8142 - val_loss: 0.4962 - val_accuracy: 0.7592\n",
            "Epoch 11/20\n",
            "313/313 [==============================] - 2s 5ms/step - loss: 0.4285 - accuracy: 0.8265 - val_loss: 0.4900 - val_accuracy: 0.7569\n",
            "Epoch 12/20\n",
            "313/313 [==============================] - 2s 5ms/step - loss: 0.4102 - accuracy: 0.8352 - val_loss: 0.4864 - val_accuracy: 0.7592\n",
            "Epoch 13/20\n",
            "313/313 [==============================] - 2s 6ms/step - loss: 0.3933 - accuracy: 0.8437 - val_loss: 0.4857 - val_accuracy: 0.7592\n",
            "Epoch 14/20\n",
            "313/313 [==============================] - 2s 6ms/step - loss: 0.3784 - accuracy: 0.8458 - val_loss: 0.4846 - val_accuracy: 0.7683\n",
            "Epoch 15/20\n",
            "313/313 [==============================] - 2s 6ms/step - loss: 0.3646 - accuracy: 0.8511 - val_loss: 0.4882 - val_accuracy: 0.7706\n",
            "Epoch 16/20\n",
            "313/313 [==============================] - 2s 6ms/step - loss: 0.3528 - accuracy: 0.8554 - val_loss: 0.4901 - val_accuracy: 0.7661\n",
            "Epoch 17/20\n",
            "313/313 [==============================] - 2s 6ms/step - loss: 0.3405 - accuracy: 0.8597 - val_loss: 0.4945 - val_accuracy: 0.7752\n",
            "Epoch 18/20\n",
            "313/313 [==============================] - 2s 6ms/step - loss: 0.3306 - accuracy: 0.8632 - val_loss: 0.5025 - val_accuracy: 0.7626\n",
            "Epoch 19/20\n",
            "313/313 [==============================] - 2s 8ms/step - loss: 0.3204 - accuracy: 0.8661 - val_loss: 0.5093 - val_accuracy: 0.7615\n",
            "Epoch 20/20\n",
            "313/313 [==============================] - 2s 6ms/step - loss: 0.3120 - accuracy: 0.8703 - val_loss: 0.5154 - val_accuracy: 0.7752\n"
          ]
        }
      ],
      "source": [
        "num_epochs = 20\n",
        "history = model.fit(training_padded, training_labels_final, epochs=num_epochs, \n",
        "                    validation_data=(validation_padded, validation_labels_final))\n"
      ]
    },
    {
      "cell_type": "markdown",
      "metadata": {
        "id": "HhLPbUl2AZ0y"
      },
      "source": [
        "# Plot the accurracy and loss"
      ]
    },
    {
      "cell_type": "code",
      "execution_count": 11,
      "metadata": {
        "id": "jzBM1PpJAYfD"
      },
      "outputs": [
        {
          "data": {
            "image/png": "[encoded data removed]",
            "text/plain": [
              "<Figure size 432x288 with 1 Axes>"
            ]
          },
          "metadata": {
            "needs_background": "light"
          },
          "output_type": "display_data"
        },
        {
          "data": {
            "image/png": "[encoded data removed]",
            "text/plain": [
              "<Figure size 432x288 with 1 Axes>"
            ]
          },
          "metadata": {
            "needs_background": "light"
          },
          "output_type": "display_data"
        }
      ],
      "source": [
        "import matplotlib.pyplot as plt\n",
        "\n",
        "\n",
        "def plot_graphs(history, string):\n",
        "  plt.plot(history.history[string])\n",
        "  plt.plot(history.history['val_'+string])\n",
        "  plt.xlabel(\"Epochs\")\n",
        "  plt.ylabel(string)\n",
        "  plt.legend([string, 'val_'+string])\n",
        "  plt.show()\n",
        "  \n",
        "plot_graphs(history, \"accuracy\")\n",
        "plot_graphs(history, \"loss\")"
      ]
    },
    {
      "cell_type": "markdown",
      "metadata": {
        "id": "HEbcMCVEKToB"
      },
      "source": [
        "# Write a function to predict the sentiment of reviews"
      ]
    },
    {
      "cell_type": "code",
      "execution_count": 12,
      "metadata": {
        "id": "K0nKY9M4xzWE"
      },
      "outputs": [],
      "source": [
        "# Write some new reviews \n",
        "\n",
        "review1 = \"\"\"I loved this movie\"\"\"\n",
        "\n",
        "review2 = \"\"\"that was the worst movie I've ever seen\"\"\"\n",
        "\n",
        "review3 = \"\"\"too much violence even for a Bond film\"\"\"\n",
        "\n",
        "review4 = \"\"\"a captivating recounting of a cherished myth\"\"\"\n",
        "\n",
        "new_reviews = [review1, review2, review3, review4]\n"
      ]
    },
    {
      "cell_type": "code",
      "execution_count": 13,
      "metadata": {
        "id": "Qg-maex27KPW"
      },
      "outputs": [
        {
          "name": "stdout",
          "output_type": "stream",
          "text": [
            "I loved this movie\n",
            "[0.3687926]\n",
            "\n",
            "\n",
            "that was the worst movie I've ever seen\n",
            "[0.10419095]\n",
            "\n",
            "\n",
            "too much violence even for a Bond film\n",
            "[0.02965211]\n",
            "\n",
            "\n",
            "a captivating recounting of a cherished myth\n",
            "[0.5574542]\n",
            "\n",
            "\n"
          ]
        }
      ],
      "source": [
        "# Define a function to prepare the new reviews for use with a model\n",
        "# and then use the model to predict the sentiment of the new reviews           \n",
        "\n",
        "def predict_review(model, reviews):\n",
        "  # Create the sequences\n",
        "  padding_type='post'\n",
        "  sample_sequences = tokenizer.texts_to_sequences(reviews)\n",
        "  reviews_padded = pad_sequences(sample_sequences, padding=padding_type, \n",
        "                                 maxlen=max_length) \n",
        "  classes = model.predict(reviews_padded)\n",
        "  for x in range(len(reviews_padded)):\n",
        "    print(reviews[x])\n",
        "    print(classes[x])\n",
        "    print('\\n')\n",
        "\n",
        "predict_review(model, new_reviews)\n"
      ]
    },
    {
      "cell_type": "markdown",
      "metadata": {
        "id": "ycJKbMq3K4iy"
      },
      "source": [
        "# Define a function to train and show the results of models with different layers"
      ]
    },
    {
      "cell_type": "code",
      "execution_count": 14,
      "metadata": {
        "id": "PevUcINXK3gn"
      },
      "outputs": [],
      "source": [
        "def fit_model_and_show_results (model, reviews):\n",
        "  model.summary()\n",
        "  history = model.fit(training_padded, training_labels_final, epochs=num_epochs, \n",
        "                      validation_data=(validation_padded, validation_labels_final))\n",
        "  plot_graphs(history, \"accuracy\")\n",
        "  plot_graphs(history, \"loss\")\n",
        "  predict_review(model, reviews)"
      ]
    },
    {
      "cell_type": "markdown",
      "metadata": {
        "id": "W8jW-OLfTrDM"
      },
      "source": [
        "# Use a CNN"
      ]
    },
    {
      "cell_type": "code",
      "execution_count": 15,
      "metadata": {
        "id": "merAu9T3TtmQ"
      },
      "outputs": [
        {
          "name": "stdout",
          "output_type": "stream",
          "text": [
            "Model: \"sequential_1\"\n",
            "_________________________________________________________________\n",
            "Layer (type)                 Output Shape              Param #   \n",
            "=================================================================\n",
            "embedding_1 (Embedding)      (None, 50, 16)            64000     \n",
            "_________________________________________________________________\n",
            "conv1d (Conv1D)              (None, 46, 16)            1296      \n",
            "_________________________________________________________________\n",
            "global_max_pooling1d (Global (None, 16)                0         \n",
            "_________________________________________________________________\n",
            "dense_1 (Dense)              (None, 1)                 17        \n",
            "=================================================================\n",
            "Total params: 65,313\n",
            "Trainable params: 65,313\n",
            "Non-trainable params: 0\n",
            "_________________________________________________________________\n",
            "Epoch 1/30\n",
            "313/313 [==============================] - 7s 7ms/step - loss: 0.6896 - accuracy: 0.5483 - val_loss: 0.6924 - val_accuracy: 0.5092\n",
            "Epoch 2/30\n",
            "313/313 [==============================] - 2s 7ms/step - loss: 0.6828 - accuracy: 0.5590 - val_loss: 0.6918 - val_accuracy: 0.5092\n",
            "Epoch 3/30\n",
            "313/313 [==============================] - 2s 7ms/step - loss: 0.6780 - accuracy: 0.5590 - val_loss: 0.6894 - val_accuracy: 0.5092\n",
            "Epoch 4/30\n",
            "313/313 [==============================] - 2s 7ms/step - loss: 0.6718 - accuracy: 0.5600 - val_loss: 0.6845 - val_accuracy: 0.5195\n",
            "Epoch 5/30\n",
            "313/313 [==============================] - 2s 6ms/step - loss: 0.6624 - accuracy: 0.5744 - val_loss: 0.6761 - val_accuracy: 0.5677\n",
            "Epoch 6/30\n",
            "313/313 [==============================] - 2s 6ms/step - loss: 0.6481 - accuracy: 0.6086 - val_loss: 0.6635 - val_accuracy: 0.6709\n",
            "Epoch 7/30\n",
            "313/313 [==============================] - 2s 7ms/step - loss: 0.6270 - accuracy: 0.6635 - val_loss: 0.6459 - val_accuracy: 0.7259\n",
            "Epoch 8/30\n",
            "313/313 [==============================] - 2s 7ms/step - loss: 0.5990 - accuracy: 0.7319 - val_loss: 0.6239 - val_accuracy: 0.7328\n",
            "Epoch 9/30\n",
            "313/313 [==============================] - 2s 8ms/step - loss: 0.5654 - accuracy: 0.7719 - val_loss: 0.5994 - val_accuracy: 0.7454\n",
            "Epoch 10/30\n",
            "313/313 [==============================] - 2s 7ms/step - loss: 0.5292 - accuracy: 0.8066 - val_loss: 0.5742 - val_accuracy: 0.7557\n",
            "Epoch 11/30\n",
            "313/313 [==============================] - 2s 7ms/step - loss: 0.4929 - accuracy: 0.8204 - val_loss: 0.5512 - val_accuracy: 0.7569\n",
            "Epoch 12/30\n",
            "313/313 [==============================] - 2s 7ms/step - loss: 0.4587 - accuracy: 0.8317 - val_loss: 0.5324 - val_accuracy: 0.7615\n",
            "Epoch 13/30\n",
            "313/313 [==============================] - 2s 7ms/step - loss: 0.4278 - accuracy: 0.8439 - val_loss: 0.5156 - val_accuracy: 0.7649\n",
            "Epoch 14/30\n",
            "313/313 [==============================] - 2s 6ms/step - loss: 0.4003 - accuracy: 0.8534 - val_loss: 0.5036 - val_accuracy: 0.7661\n",
            "Epoch 15/30\n",
            "313/313 [==============================] - 2s 6ms/step - loss: 0.3761 - accuracy: 0.8596 - val_loss: 0.4949 - val_accuracy: 0.7706\n",
            "Epoch 16/30\n",
            "313/313 [==============================] - 2s 7ms/step - loss: 0.3549 - accuracy: 0.8648 - val_loss: 0.4892 - val_accuracy: 0.7683\n",
            "Epoch 17/30\n",
            "313/313 [==============================] - 2s 6ms/step - loss: 0.3361 - accuracy: 0.8686 - val_loss: 0.4863 - val_accuracy: 0.7638\n",
            "Epoch 18/30\n",
            "313/313 [==============================] - 2s 6ms/step - loss: 0.3196 - accuracy: 0.8734 - val_loss: 0.4848 - val_accuracy: 0.7638\n",
            "Epoch 19/30\n",
            "313/313 [==============================] - 2s 7ms/step - loss: 0.3048 - accuracy: 0.8785 - val_loss: 0.4866 - val_accuracy: 0.7683\n",
            "Epoch 20/30\n",
            "313/313 [==============================] - 2s 7ms/step - loss: 0.2916 - accuracy: 0.8815 - val_loss: 0.4881 - val_accuracy: 0.7706\n",
            "Epoch 21/30\n",
            "313/313 [==============================] - 2s 8ms/step - loss: 0.2797 - accuracy: 0.8843 - val_loss: 0.4924 - val_accuracy: 0.7672\n",
            "Epoch 22/30\n",
            "313/313 [==============================] - 2s 7ms/step - loss: 0.2689 - accuracy: 0.8884 - val_loss: 0.4974 - val_accuracy: 0.7615\n",
            "Epoch 23/30\n",
            "313/313 [==============================] - 2s 7ms/step - loss: 0.2589 - accuracy: 0.8928 - val_loss: 0.5029 - val_accuracy: 0.7592\n",
            "Epoch 24/30\n",
            "313/313 [==============================] - 2s 7ms/step - loss: 0.2501 - accuracy: 0.8952 - val_loss: 0.5098 - val_accuracy: 0.7580\n",
            "Epoch 25/30\n",
            "313/313 [==============================] - 2s 7ms/step - loss: 0.2418 - accuracy: 0.8979 - val_loss: 0.5177 - val_accuracy: 0.7592\n",
            "Epoch 26/30\n",
            "313/313 [==============================] - 2s 7ms/step - loss: 0.2342 - accuracy: 0.9004 - val_loss: 0.5255 - val_accuracy: 0.7592\n",
            "Epoch 27/30\n",
            "313/313 [==============================] - 2s 7ms/step - loss: 0.2271 - accuracy: 0.9022 - val_loss: 0.5350 - val_accuracy: 0.7534\n",
            "Epoch 28/30\n",
            "313/313 [==============================] - 2s 7ms/step - loss: 0.2205 - accuracy: 0.9051 - val_loss: 0.5441 - val_accuracy: 0.7546\n",
            "Epoch 29/30\n",
            "313/313 [==============================] - 2s 7ms/step - loss: 0.2145 - accuracy: 0.9055 - val_loss: 0.5536 - val_accuracy: 0.7546\n",
            "Epoch 30/30\n",
            "313/313 [==============================] - 2s 7ms/step - loss: 0.2088 - accuracy: 0.9095 - val_loss: 0.5638 - val_accuracy: 0.7534\n"
          ]
        },
        {
          "data": {
            "image/png": "[encoded data removed]",
            "text/plain": [
              "<Figure size 432x288 with 1 Axes>"
            ]
          },
          "metadata": {
            "needs_background": "light"
          },
          "output_type": "display_data"
        },
        {
          "data": {
            "image/png": "[encoded data removed]",
            "text/plain": [
              "<Figure size 432x288 with 1 Axes>"
            ]
          },
          "metadata": {
            "needs_background": "light"
          },
          "output_type": "display_data"
        },
        {
          "name": "stdout",
          "output_type": "stream",
          "text": [
            "I loved this movie\n",
            "[0.8942872]\n",
            "\n",
            "\n",
            "that was the worst movie I've ever seen\n",
            "[0.03759512]\n",
            "\n",
            "\n",
            "too much violence even for a Bond film\n",
            "[0.00358463]\n",
            "\n",
            "\n",
            "a captivating recounting of a cherished myth\n",
            "[0.6704127]\n",
            "\n",
            "\n"
          ]
        }
      ],
      "source": [
        "num_epochs = 30\n",
        "\n",
        "model_cnn = tf.keras.Sequential([\n",
        "    tf.keras.layers.Embedding(vocab_size, embedding_dim, input_length=max_length),\n",
        "    tf.keras.layers.Conv1D(16, 5, activation='relu'),\n",
        "    tf.keras.layers.GlobalMaxPooling1D(),\n",
        "    tf.keras.layers.Dense(1, activation='sigmoid')\n",
        "])\n",
        "\n",
        "# Default learning rate for the Adam optimizer is 0.001\n",
        "# Let's slow down the learning rate by 10.\n",
        "learning_rate = 0.0001\n",
        "model_cnn.compile(loss='binary_crossentropy',\n",
        "                  optimizer=tf.keras.optimizers.Adam(learning_rate), \n",
        "                  metrics=['accuracy'])\n",
        "\n",
        "fit_model_and_show_results(model_cnn, new_reviews)"
      ]
    },
    {
      "cell_type": "markdown",
      "metadata": {
        "id": "tXnoq0zITmSM"
      },
      "source": [
        "# Use a GRU"
      ]
    },
    {
      "cell_type": "code",
      "execution_count": 16,
      "metadata": {
        "id": "6jP6KAzZTpQ6"
      },
      "outputs": [
        {
          "name": "stdout",
          "output_type": "stream",
          "text": [
            "Model: \"sequential_2\"\n",
            "_________________________________________________________________\n",
            "Layer (type)                 Output Shape              Param #   \n",
            "=================================================================\n",
            "embedding_2 (Embedding)      (None, 50, 16)            64000     \n",
            "_________________________________________________________________\n",
            "bidirectional (Bidirectional (None, 64)                9600      \n",
            "_________________________________________________________________\n",
            "dense_2 (Dense)              (None, 1)                 65        \n",
            "=================================================================\n",
            "Total params: 73,665\n",
            "Trainable params: 73,665\n",
            "Non-trainable params: 0\n",
            "_________________________________________________________________\n",
            "Epoch 1/30\n",
            "313/313 [==============================] - 9s 17ms/step - loss: 0.6905 - accuracy: 0.5559 - val_loss: 0.6932 - val_accuracy: 0.5092\n",
            "Epoch 2/30\n",
            "313/313 [==============================] - 5s 16ms/step - loss: 0.6872 - accuracy: 0.5590 - val_loss: 0.6939 - val_accuracy: 0.5092\n",
            "Epoch 3/30\n",
            "313/313 [==============================] - 5s 17ms/step - loss: 0.6857 - accuracy: 0.5590 - val_loss: 0.6944 - val_accuracy: 0.5092\n",
            "Epoch 4/30\n",
            "313/313 [==============================] - 5s 17ms/step - loss: 0.6847 - accuracy: 0.5590 - val_loss: 0.6950 - val_accuracy: 0.5092\n",
            "Epoch 5/30\n",
            "313/313 [==============================] - 5s 16ms/step - loss: 0.6836 - accuracy: 0.5590 - val_loss: 0.6953 - val_accuracy: 0.5092\n",
            "Epoch 6/30\n",
            "313/313 [==============================] - 5s 16ms/step - loss: 0.6820 - accuracy: 0.5590 - val_loss: 0.6955 - val_accuracy: 0.5092\n",
            "Epoch 7/30\n",
            "313/313 [==============================] - 5s 16ms/step - loss: 0.6795 - accuracy: 0.5590 - val_loss: 0.6959 - val_accuracy: 0.5092\n",
            "Epoch 8/30\n",
            "313/313 [==============================] - 5s 16ms/step - loss: 0.6754 - accuracy: 0.5590 - val_loss: 0.6964 - val_accuracy: 0.5092\n",
            "Epoch 9/30\n",
            "313/313 [==============================] - 5s 16ms/step - loss: 0.6682 - accuracy: 0.5631 - val_loss: 0.6998 - val_accuracy: 0.5092\n",
            "Epoch 10/30\n",
            "313/313 [==============================] - 5s 16ms/step - loss: 0.6548 - accuracy: 0.5822 - val_loss: 0.7014 - val_accuracy: 0.5092\n",
            "Epoch 11/30\n",
            "313/313 [==============================] - 5s 16ms/step - loss: 0.6301 - accuracy: 0.6211 - val_loss: 0.6712 - val_accuracy: 0.5092\n",
            "Epoch 12/30\n",
            "313/313 [==============================] - 5s 16ms/step - loss: 0.5960 - accuracy: 0.6680 - val_loss: 0.6362 - val_accuracy: 0.5161\n",
            "Epoch 13/30\n",
            "313/313 [==============================] - 5s 16ms/step - loss: 0.5701 - accuracy: 0.7011 - val_loss: 0.6278 - val_accuracy: 0.5883\n",
            "Epoch 14/30\n",
            "313/313 [==============================] - 5s 16ms/step - loss: 0.5486 - accuracy: 0.7185 - val_loss: 0.6351 - val_accuracy: 0.6674\n",
            "Epoch 15/30\n",
            "313/313 [==============================] - 5s 17ms/step - loss: 0.5282 - accuracy: 0.7395 - val_loss: 0.6232 - val_accuracy: 0.7259\n",
            "Epoch 16/30\n",
            "313/313 [==============================] - 5s 16ms/step - loss: 0.5074 - accuracy: 0.7555 - val_loss: 0.6119 - val_accuracy: 0.7328\n",
            "Epoch 17/30\n",
            "313/313 [==============================] - 5s 16ms/step - loss: 0.4878 - accuracy: 0.7731 - val_loss: 0.6129 - val_accuracy: 0.7339\n",
            "Epoch 18/30\n",
            "313/313 [==============================] - 5s 16ms/step - loss: 0.4716 - accuracy: 0.7843 - val_loss: 0.5974 - val_accuracy: 0.7339\n",
            "Epoch 19/30\n",
            "313/313 [==============================] - 5s 16ms/step - loss: 0.4604 - accuracy: 0.7873 - val_loss: 0.5907 - val_accuracy: 0.7397\n",
            "Epoch 20/30\n",
            "313/313 [==============================] - 5s 16ms/step - loss: 0.4485 - accuracy: 0.7976 - val_loss: 0.5913 - val_accuracy: 0.7454\n",
            "Epoch 21/30\n",
            "313/313 [==============================] - 5s 16ms/step - loss: 0.4382 - accuracy: 0.8066 - val_loss: 0.5821 - val_accuracy: 0.7546\n",
            "Epoch 22/30\n",
            "313/313 [==============================] - 5s 17ms/step - loss: 0.4278 - accuracy: 0.8113 - val_loss: 0.5805 - val_accuracy: 0.7580\n",
            "Epoch 23/30\n",
            "313/313 [==============================] - 5s 16ms/step - loss: 0.4181 - accuracy: 0.8173 - val_loss: 0.5974 - val_accuracy: 0.7546\n",
            "Epoch 24/30\n",
            "313/313 [==============================] - 5s 16ms/step - loss: 0.4104 - accuracy: 0.8205 - val_loss: 0.5851 - val_accuracy: 0.7511\n",
            "Epoch 25/30\n",
            "313/313 [==============================] - 5s 16ms/step - loss: 0.4036 - accuracy: 0.8260 - val_loss: 0.6332 - val_accuracy: 0.7557\n",
            "Epoch 26/30\n",
            "313/313 [==============================] - 5s 17ms/step - loss: 0.3957 - accuracy: 0.8311 - val_loss: 0.6132 - val_accuracy: 0.7592\n",
            "Epoch 27/30\n",
            "313/313 [==============================] - 5s 16ms/step - loss: 0.3897 - accuracy: 0.8340 - val_loss: 0.6095 - val_accuracy: 0.7569\n",
            "Epoch 28/30\n",
            "313/313 [==============================] - 5s 16ms/step - loss: 0.3813 - accuracy: 0.8385 - val_loss: 0.6263 - val_accuracy: 0.7569\n",
            "Epoch 29/30\n",
            "313/313 [==============================] - 5s 16ms/step - loss: 0.3763 - accuracy: 0.8390 - val_loss: 0.6221 - val_accuracy: 0.7603\n",
            "Epoch 30/30\n",
            "313/313 [==============================] - 5s 16ms/step - loss: 0.3692 - accuracy: 0.8403 - val_loss: 0.6071 - val_accuracy: 0.7638\n"
          ]
        },
        {
          "data": {
            "image/png": "[encoded data removed]",
            "text/plain": [
              "<Figure size 432x288 with 1 Axes>"
            ]
          },
          "metadata": {
            "needs_background": "light"
          },
          "output_type": "display_data"
        },
        {
          "data": {
            "image/png": "[encoded data removed]",
            "text/plain": [
              "<Figure size 432x288 with 1 Axes>"
            ]
          },
          "metadata": {
            "needs_background": "light"
          },
          "output_type": "display_data"
        },
        {
          "name": "stdout",
          "output_type": "stream",
          "text": [
            "I loved this movie\n",
            "[0.33828518]\n",
            "\n",
            "\n",
            "that was the worst movie I've ever seen\n",
            "[0.1292787]\n",
            "\n",
            "\n",
            "too much violence even for a Bond film\n",
            "[0.10702351]\n",
            "\n",
            "\n",
            "a captivating recounting of a cherished myth\n",
            "[0.35747084]\n",
            "\n",
            "\n"
          ]
        }
      ],
      "source": [
        "num_epochs = 30\n",
        "\n",
        "model_gru = tf.keras.Sequential([\n",
        "    tf.keras.layers.Embedding(vocab_size, embedding_dim, input_length=max_length),\n",
        "    tf.keras.layers.Bidirectional(tf.keras.layers.GRU(32)),\n",
        "    tf.keras.layers.Dense(1, activation='sigmoid')\n",
        "])\n",
        "\n",
        "learning_rate = 0.00003 # slower than the default learning rate\n",
        "model_gru.compile(loss='binary_crossentropy',\n",
        "                  optimizer=tf.keras.optimizers.Adam(learning_rate),\n",
        "                  metrics=['accuracy'])\n",
        "\n",
        "fit_model_and_show_results(model_gru, new_reviews)"
      ]
    },
    {
      "cell_type": "markdown",
      "metadata": {
        "id": "U13JBiJUG1oq"
      },
      "source": [
        "# Add a bidirectional LSTM"
      ]
    },
    {
      "cell_type": "code",
      "execution_count": 17,
      "metadata": {
        "id": "scTUsFPAG4zP"
      },
      "outputs": [
        {
          "name": "stdout",
          "output_type": "stream",
          "text": [
            "Model: \"sequential_3\"\n",
            "_________________________________________________________________\n",
            "Layer (type)                 Output Shape              Param #   \n",
            "=================================================================\n",
            "embedding_3 (Embedding)      (None, 50, 16)            64000     \n",
            "_________________________________________________________________\n",
            "bidirectional_1 (Bidirection (None, 32)                4224      \n",
            "_________________________________________________________________\n",
            "dense_3 (Dense)              (None, 1)                 33        \n",
            "=================================================================\n",
            "Total params: 68,257\n",
            "Trainable params: 68,257\n",
            "Non-trainable params: 0\n",
            "_________________________________________________________________\n",
            "Epoch 1/30\n",
            "313/313 [==============================] - 8s 18ms/step - loss: 0.6906 - accuracy: 0.5596 - val_loss: 0.6932 - val_accuracy: 0.5092\n",
            "Epoch 2/30\n",
            "313/313 [==============================] - 5s 16ms/step - loss: 0.6873 - accuracy: 0.5590 - val_loss: 0.6939 - val_accuracy: 0.5092\n",
            "Epoch 3/30\n",
            "313/313 [==============================] - 5s 16ms/step - loss: 0.6850 - accuracy: 0.5590 - val_loss: 0.6951 - val_accuracy: 0.5092\n",
            "Epoch 4/30\n",
            "313/313 [==============================] - 5s 16ms/step - loss: 0.6835 - accuracy: 0.5590 - val_loss: 0.6965 - val_accuracy: 0.5092\n",
            "Epoch 5/30\n",
            "313/313 [==============================] - 5s 16ms/step - loss: 0.6821 - accuracy: 0.5590 - val_loss: 0.6979 - val_accuracy: 0.5092\n",
            "Epoch 6/30\n",
            "313/313 [==============================] - 5s 17ms/step - loss: 0.6805 - accuracy: 0.5590 - val_loss: 0.6993 - val_accuracy: 0.5092\n",
            "Epoch 7/30\n",
            "313/313 [==============================] - 5s 16ms/step - loss: 0.6785 - accuracy: 0.5590 - val_loss: 0.7010 - val_accuracy: 0.5092\n",
            "Epoch 8/30\n",
            "313/313 [==============================] - 5s 16ms/step - loss: 0.6759 - accuracy: 0.5590 - val_loss: 0.7048 - val_accuracy: 0.5092\n",
            "Epoch 9/30\n",
            "313/313 [==============================] - 5s 16ms/step - loss: 0.6727 - accuracy: 0.5591 - val_loss: 0.7070 - val_accuracy: 0.5092\n",
            "Epoch 10/30\n",
            "313/313 [==============================] - 5s 16ms/step - loss: 0.6686 - accuracy: 0.5626 - val_loss: 0.7120 - val_accuracy: 0.5092\n",
            "Epoch 11/30\n",
            "313/313 [==============================] - 5s 16ms/step - loss: 0.6636 - accuracy: 0.5752 - val_loss: 0.7148 - val_accuracy: 0.5092\n",
            "Epoch 12/30\n",
            "313/313 [==============================] - 5s 16ms/step - loss: 0.6577 - accuracy: 0.5982 - val_loss: 0.7198 - val_accuracy: 0.5092\n",
            "Epoch 13/30\n",
            "313/313 [==============================] - 5s 16ms/step - loss: 0.6503 - accuracy: 0.6192 - val_loss: 0.7204 - val_accuracy: 0.5092\n",
            "Epoch 14/30\n",
            "313/313 [==============================] - 5s 16ms/step - loss: 0.6416 - accuracy: 0.6380 - val_loss: 0.7227 - val_accuracy: 0.5092\n",
            "Epoch 15/30\n",
            "313/313 [==============================] - 5s 16ms/step - loss: 0.6309 - accuracy: 0.6528 - val_loss: 0.7241 - val_accuracy: 0.5092\n",
            "Epoch 16/30\n",
            "313/313 [==============================] - 5s 17ms/step - loss: 0.6180 - accuracy: 0.6682 - val_loss: 0.7199 - val_accuracy: 0.5080\n",
            "Epoch 17/30\n",
            "313/313 [==============================] - 5s 16ms/step - loss: 0.6023 - accuracy: 0.6836 - val_loss: 0.7163 - val_accuracy: 0.5092\n",
            "Epoch 18/30\n",
            "313/313 [==============================] - 5s 16ms/step - loss: 0.5849 - accuracy: 0.6963 - val_loss: 0.6939 - val_accuracy: 0.5080\n",
            "Epoch 19/30\n",
            "313/313 [==============================] - 5s 16ms/step - loss: 0.5676 - accuracy: 0.7165 - val_loss: 0.6646 - val_accuracy: 0.5080\n",
            "Epoch 20/30\n",
            "313/313 [==============================] - 5s 16ms/step - loss: 0.5532 - accuracy: 0.7321 - val_loss: 0.6551 - val_accuracy: 0.5126\n",
            "Epoch 21/30\n",
            "313/313 [==============================] - 5s 16ms/step - loss: 0.5424 - accuracy: 0.7439 - val_loss: 0.6537 - val_accuracy: 0.5126\n",
            "Epoch 22/30\n",
            "313/313 [==============================] - 5s 16ms/step - loss: 0.5303 - accuracy: 0.7525 - val_loss: 0.6360 - val_accuracy: 0.5264\n",
            "Epoch 23/30\n",
            "313/313 [==============================] - ETA: 0s - loss: 0.5219 - accuracy: 0.76 - 5s 15ms/step - loss: 0.5219 - accuracy: 0.7627 - val_loss: 0.6120 - val_accuracy: 0.5505\n",
            "Epoch 24/30\n",
            "313/313 [==============================] - 5s 15ms/step - loss: 0.5123 - accuracy: 0.7695 - val_loss: 0.6122 - val_accuracy: 0.5665\n",
            "Epoch 25/30\n",
            "313/313 [==============================] - 5s 16ms/step - loss: 0.5036 - accuracy: 0.7769 - val_loss: 0.6106 - val_accuracy: 0.5791\n",
            "Epoch 26/30\n",
            "313/313 [==============================] - 5s 17ms/step - loss: 0.4972 - accuracy: 0.7777 - val_loss: 0.5922 - val_accuracy: 0.6044\n",
            "Epoch 27/30\n",
            "313/313 [==============================] - 5s 16ms/step - loss: 0.4893 - accuracy: 0.7864 - val_loss: 0.5815 - val_accuracy: 0.6502\n",
            "Epoch 28/30\n",
            "313/313 [==============================] - 5s 16ms/step - loss: 0.4819 - accuracy: 0.7922 - val_loss: 0.5791 - val_accuracy: 0.6663\n",
            "Epoch 29/30\n",
            "313/313 [==============================] - 5s 16ms/step - loss: 0.4756 - accuracy: 0.7952 - val_loss: 0.5808 - val_accuracy: 0.6697\n",
            "Epoch 30/30\n",
            "313/313 [==============================] - 5s 16ms/step - loss: 0.4687 - accuracy: 0.8017 - val_loss: 0.5823 - val_accuracy: 0.6778\n"
          ]
        },
        {
          "data": {
            "image/png": "[encoded data removed]",
            "text/plain": [
              "<Figure size 432x288 with 1 Axes>"
            ]
          },
          "metadata": {
            "needs_background": "light"
          },
          "output_type": "display_data"
        },
        {
          "data": {
            "image/png": "[encoded data removed]",
            "text/plain": [
              "<Figure size 432x288 with 1 Axes>"
            ]
          },
          "metadata": {
            "needs_background": "light"
          },
          "output_type": "display_data"
        },
        {
          "name": "stdout",
          "output_type": "stream",
          "text": [
            "I loved this movie\n",
            "[0.4894656]\n",
            "\n",
            "\n",
            "that was the worst movie I've ever seen\n",
            "[0.30231726]\n",
            "\n",
            "\n",
            "too much violence even for a Bond film\n",
            "[0.3942473]\n",
            "\n",
            "\n",
            "a captivating recounting of a cherished myth\n",
            "[0.5639357]\n",
            "\n",
            "\n"
          ]
        }
      ],
      "source": [
        "num_epochs = 30\n",
        "\n",
        "model_bidi_lstm = tf.keras.Sequential([\n",
        "    tf.keras.layers.Embedding(vocab_size, embedding_dim, input_length=max_length),\n",
        "    tf.keras.layers.Bidirectional(tf.keras.layers.LSTM(embedding_dim)), \n",
        "    tf.keras.layers.Dense(1, activation='sigmoid')\n",
        "])\n",
        "\n",
        "learning_rate = 0.00003\n",
        "model_bidi_lstm.compile(loss='binary_crossentropy',\n",
        "                        optimizer=tf.keras.optimizers.Adam(learning_rate),\n",
        "                        metrics=['accuracy'])\n",
        "fit_model_and_show_results(model_bidi_lstm, new_reviews)"
      ]
    },
    {
      "cell_type": "markdown",
      "metadata": {
        "id": "QsxKPbCnPJTj"
      },
      "source": [
        "# Use multiple bidirectional LSTMs"
      ]
    },
    {
      "cell_type": "code",
      "execution_count": 18,
      "metadata": {
        "id": "3N6Zul47PMED"
      },
      "outputs": [
        {
          "name": "stdout",
          "output_type": "stream",
          "text": [
            "Model: \"sequential_4\"\n",
            "_________________________________________________________________\n",
            "Layer (type)                 Output Shape              Param #   \n",
            "=================================================================\n",
            "embedding_4 (Embedding)      (None, 50, 16)            64000     \n",
            "_________________________________________________________________\n",
            "bidirectional_2 (Bidirection (None, 50, 32)            4224      \n",
            "_________________________________________________________________\n",
            "bidirectional_3 (Bidirection (None, 32)                6272      \n",
            "_________________________________________________________________\n",
            "dense_4 (Dense)              (None, 1)                 33        \n",
            "=================================================================\n",
            "Total params: 74,529\n",
            "Trainable params: 74,529\n",
            "Non-trainable params: 0\n",
            "_________________________________________________________________\n",
            "Epoch 1/30\n",
            "313/313 [==============================] - 14s 31ms/step - loss: 0.6821 - accuracy: 0.5611 - val_loss: 0.7042 - val_accuracy: 0.5092\n",
            "Epoch 2/30\n",
            "313/313 [==============================] - 8s 26ms/step - loss: 0.5154 - accuracy: 0.7418 - val_loss: 0.6958 - val_accuracy: 0.5206\n",
            "Epoch 3/30\n",
            "313/313 [==============================] - 8s 25ms/step - loss: 0.3584 - accuracy: 0.8352 - val_loss: 0.6883 - val_accuracy: 0.5528\n",
            "Epoch 4/30\n",
            "313/313 [==============================] - 8s 26ms/step - loss: 0.3069 - accuracy: 0.8579 - val_loss: 0.6663 - val_accuracy: 0.6021\n",
            "Epoch 5/30\n",
            "313/313 [==============================] - 8s 25ms/step - loss: 0.2723 - accuracy: 0.8729 - val_loss: 0.7443 - val_accuracy: 0.5195\n",
            "Epoch 6/30\n",
            "313/313 [==============================] - 8s 25ms/step - loss: 0.2492 - accuracy: 0.8828 - val_loss: 0.7300 - val_accuracy: 0.5069\n",
            "Epoch 7/30\n",
            "313/313 [==============================] - 8s 26ms/step - loss: 0.2371 - accuracy: 0.8898 - val_loss: 0.7339 - val_accuracy: 0.3739\n",
            "Epoch 8/30\n",
            "313/313 [==============================] - 8s 25ms/step - loss: 0.2244 - accuracy: 0.8973 - val_loss: 0.9094 - val_accuracy: 0.5298\n",
            "Epoch 9/30\n",
            "313/313 [==============================] - 8s 25ms/step - loss: 0.2147 - accuracy: 0.8988 - val_loss: 0.9136 - val_accuracy: 0.5241\n",
            "Epoch 10/30\n",
            "313/313 [==============================] - 8s 25ms/step - loss: 0.2054 - accuracy: 0.9083 - val_loss: 0.8789 - val_accuracy: 0.4186\n",
            "Epoch 11/30\n",
            "313/313 [==============================] - 8s 26ms/step - loss: 0.1967 - accuracy: 0.9079 - val_loss: 0.9022 - val_accuracy: 0.4495\n",
            "Epoch 12/30\n",
            "313/313 [==============================] - 8s 26ms/step - loss: 0.1897 - accuracy: 0.9144 - val_loss: 0.8961 - val_accuracy: 0.4713\n",
            "Epoch 13/30\n",
            "313/313 [==============================] - 8s 26ms/step - loss: 0.1817 - accuracy: 0.9153 - val_loss: 0.8105 - val_accuracy: 0.5378\n",
            "Epoch 14/30\n",
            "313/313 [==============================] - 8s 24ms/step - loss: 0.1788 - accuracy: 0.9164 - val_loss: 0.8672 - val_accuracy: 0.4690\n",
            "Epoch 15/30\n",
            "313/313 [==============================] - 8s 26ms/step - loss: 0.1776 - accuracy: 0.9184 - val_loss: 0.8060 - val_accuracy: 0.5734\n",
            "Epoch 16/30\n",
            "313/313 [==============================] - 8s 26ms/step - loss: 0.1715 - accuracy: 0.9215 - val_loss: 0.9107 - val_accuracy: 0.5631\n",
            "Epoch 17/30\n",
            "313/313 [==============================] - 8s 26ms/step - loss: 0.1718 - accuracy: 0.9193 - val_loss: 0.9736 - val_accuracy: 0.5287\n",
            "Epoch 18/30\n",
            "313/313 [==============================] - 8s 26ms/step - loss: 0.1684 - accuracy: 0.9195 - val_loss: 0.9737 - val_accuracy: 0.5310\n",
            "Epoch 19/30\n",
            "313/313 [==============================] - 8s 25ms/step - loss: 0.1645 - accuracy: 0.9218 - val_loss: 0.9270 - val_accuracy: 0.5252\n",
            "Epoch 20/30\n",
            "313/313 [==============================] - 9s 28ms/step - loss: 0.1574 - accuracy: 0.9265 - val_loss: 0.9310 - val_accuracy: 0.5424\n",
            "Epoch 21/30\n",
            "313/313 [==============================] - 9s 28ms/step - loss: 0.1514 - accuracy: 0.9281 - val_loss: 0.9814 - val_accuracy: 0.5287\n",
            "Epoch 22/30\n",
            "313/313 [==============================] - 9s 28ms/step - loss: 0.1518 - accuracy: 0.9278 - val_loss: 0.9621 - val_accuracy: 0.5722\n",
            "Epoch 23/30\n",
            "313/313 [==============================] - 8s 27ms/step - loss: 0.1508 - accuracy: 0.9274 - val_loss: 0.9604 - val_accuracy: 0.5677\n",
            "Epoch 24/30\n",
            "313/313 [==============================] - 9s 27ms/step - loss: 0.1448 - accuracy: 0.9289 - val_loss: 1.0467 - val_accuracy: 0.6089\n",
            "Epoch 25/30\n",
            "313/313 [==============================] - 8s 27ms/step - loss: 0.1451 - accuracy: 0.9304 - val_loss: 1.0817 - val_accuracy: 0.5470\n",
            "Epoch 26/30\n",
            "313/313 [==============================] - 8s 27ms/step - loss: 0.1422 - accuracy: 0.9332 - val_loss: 1.1261 - val_accuracy: 0.5826\n",
            "Epoch 27/30\n",
            "313/313 [==============================] - 9s 27ms/step - loss: 0.1416 - accuracy: 0.9323 - val_loss: 0.9953 - val_accuracy: 0.6009\n",
            "Epoch 28/30\n",
            "313/313 [==============================] - 9s 27ms/step - loss: 0.1360 - accuracy: 0.9325 - val_loss: 1.0396 - val_accuracy: 0.6067\n",
            "Epoch 29/30\n",
            "313/313 [==============================] - 8s 27ms/step - loss: 0.1325 - accuracy: 0.9328 - val_loss: 1.0338 - val_accuracy: 0.5952\n",
            "Epoch 30/30\n",
            "313/313 [==============================] - 8s 27ms/step - loss: 0.1333 - accuracy: 0.9351 - val_loss: 1.2542 - val_accuracy: 0.5677\n"
          ]
        },
        {
          "data": {
            "image/png": "[encoded data removed]",
            "text/plain": [
              "<Figure size 432x288 with 1 Axes>"
            ]
          },
          "metadata": {
            "needs_background": "light"
          },
          "output_type": "display_data"
        },
        {
          "data": {
            "image/png": "[encoded data removed]",
            "text/plain": [
              "<Figure size 432x288 with 1 Axes>"
            ]
          },
          "metadata": {
            "needs_background": "light"
          },
          "output_type": "display_data"
        },
        {
          "name": "stdout",
          "output_type": "stream",
          "text": [
            "WARNING:tensorflow:5 out of the last 5 calls to <function Model.make_predict_function.<locals>.predict_function at 0x000001AE4E2CC3A0> triggered tf.function retracing. Tracing is expensive and the excessive number of tracings could be due to (1) creating @tf.function repeatedly in a loop, (2) passing tensors with different shapes, (3) passing Python objects instead of tensors. For (1), please define your @tf.function outside of the loop. For (2), @tf.function has experimental_relax_shapes=True option that relaxes argument shapes that can avoid unnecessary retracing. For (3), please refer to https://www.tensorflow.org/guide/function#controlling_retracing and https://www.tensorflow.org/api_docs/python/tf/function for  more details.\n"
          ]
        },
        {
          "name": "stderr",
          "output_type": "stream",
          "text": [
            "WARNING:tensorflow:5 out of the last 5 calls to <function Model.make_predict_function.<locals>.predict_function at 0x000001AE4E2CC3A0> triggered tf.function retracing. Tracing is expensive and the excessive number of tracings could be due to (1) creating @tf.function repeatedly in a loop, (2) passing tensors with different shapes, (3) passing Python objects instead of tensors. For (1), please define your @tf.function outside of the loop. For (2), @tf.function has experimental_relax_shapes=True option that relaxes argument shapes that can avoid unnecessary retracing. For (3), please refer to https://www.tensorflow.org/guide/function#controlling_retracing and https://www.tensorflow.org/api_docs/python/tf/function for  more details.\n"
          ]
        },
        {
          "name": "stdout",
          "output_type": "stream",
          "text": [
            "I loved this movie\n",
            "[0.6327412]\n",
            "\n",
            "\n",
            "that was the worst movie I've ever seen\n",
            "[0.6682884]\n",
            "\n",
            "\n",
            "too much violence even for a Bond film\n",
            "[0.00665568]\n",
            "\n",
            "\n",
            "a captivating recounting of a cherished myth\n",
            "[0.9942386]\n",
            "\n",
            "\n"
          ]
        }
      ],
      "source": [
        "num_epochs = 30\n",
        "\n",
        "model_multiple_bidi_lstm = tf.keras.Sequential([\n",
        "    tf.keras.layers.Embedding(vocab_size, embedding_dim, input_length=max_length),\n",
        "    tf.keras.layers.Bidirectional(tf.keras.layers.LSTM(embedding_dim, \n",
        "                                                       return_sequences=True)),\n",
        "    tf.keras.layers.Bidirectional(tf.keras.layers.LSTM(embedding_dim)),\n",
        "    tf.keras.layers.Dense(1, activation='sigmoid')\n",
        "])\n",
        "\n",
        "learning_rate = 0.0003\n",
        "model_multiple_bidi_lstm.compile(loss='binary_crossentropy',\n",
        "                                 optimizer=tf.keras.optimizers.Adam(learning_rate),\n",
        "                                 metrics=['accuracy'])\n",
        "fit_model_and_show_results(model_multiple_bidi_lstm, new_reviews)"
      ]
    },
    {
      "cell_type": "markdown",
      "metadata": {
        "id": "gdN2tdW4YYJ1"
      },
      "source": [
        "# Try some more reviews"
      ]
    },
    {
      "cell_type": "code",
      "execution_count": 19,
      "metadata": {
        "id": "e45UQxQl_QAI"
      },
      "outputs": [],
      "source": [
        "# Write some new reviews \n",
        "\n",
        "review1 = \"\"\"I loved this movie\"\"\"\n",
        "\n",
        "review2 = \"\"\"that was the worst movie I've ever seen\"\"\"\n",
        "\n",
        "review3 = \"\"\"too much violence even for a Bond film\"\"\"\n",
        "\n",
        "review4 = \"\"\"a captivating recounting of a cherished myth\"\"\"\n",
        "\n",
        "review5 = \"\"\"I saw this movie yesterday and I was feeling low to start with,\n",
        " but it was such a wonderful movie that it lifted my spirits and brightened \n",
        " my day, you can\\'t go wrong with a movie with Whoopi Goldberg in it.\"\"\"\n",
        "\n",
        "review6 = \"\"\"I don\\'t understand why it received an oscar recommendation\n",
        " for best movie, it was long and boring\"\"\"\n",
        "\n",
        "review7 = \"\"\"the scenery was magnificent, the CGI of the dogs was so realistic I\n",
        " thought they were played by real dogs even though they talked!\"\"\"\n",
        "\n",
        "review8 = \"\"\"The ending was so sad and yet so uplifting at the same time. \n",
        " I'm looking for an excuse to see it again\"\"\"\n",
        "\n",
        "review9 = \"\"\"I had expected so much more from a movie made by the director \n",
        " who made my most favorite movie ever, I was very disappointed in the tedious \n",
        " story\"\"\"\n",
        "\n",
        "review10 = \"I wish I could watch this movie every day for the rest of my life\"\n",
        "\n",
        "more_reviews = [review1, review2, review3, review4, review5, review6, review7, \n",
        "               review8, review9, review10]\n"
      ]
    },
    {
      "cell_type": "code",
      "execution_count": 26,
      "metadata": {
        "id": "cQ4YZHOjYXQ2"
      },
      "outputs": [
        {
          "name": "stdout",
          "output_type": "stream",
          "text": [
            "============================\n",
            " Embeddings only:\n",
            " ============================\n",
            "I loved this movie\n",
            "[0.3687926]\n",
            "\n",
            "\n",
            "that was the worst movie I've ever seen\n",
            "[0.10419095]\n",
            "\n",
            "\n",
            "too much violence even for a Bond film\n",
            "[0.02965211]\n",
            "\n",
            "\n",
            "a captivating recounting of a cherished myth\n",
            "[0.5574542]\n",
            "\n",
            "\n",
            "I saw this movie yesterday and I was feeling low to start with,\n",
            " but it was such a wonderful movie that it lifted my spirits and brightened \n",
            " my day, you can't go wrong with a movie with Whoopi Goldberg in it.\n",
            "[0.2365855]\n",
            "\n",
            "\n",
            "I don't understand why it received an oscar recommendation\n",
            " for best movie, it was long and boring\n",
            "[0.45005956]\n",
            "\n",
            "\n",
            "the scenery was magnificent, the CGI of the dogs was so realistic I\n",
            " thought they were played by real dogs even though they talked!\n",
            "[0.24412999]\n",
            "\n",
            "\n",
            "The ending was so sad and yet so uplifting at the same time. \n",
            " I'm looking for an excuse to see it again\n",
            "[0.457166]\n",
            "\n",
            "\n",
            "I had expected so much more from a movie made by the director \n",
            " who made my most favorite movie ever, I was very disappointed in the tedious \n",
            " story\n",
            "[0.00993676]\n",
            "\n",
            "\n",
            "I wish I could watch this movie every day for the rest of my life\n",
            "[0.28023365]\n",
            "\n",
            "\n"
          ]
        }
      ],
      "source": [
        "print(\"============================\\n\",\"Embeddings only:\\n\", \"============================\")\n",
        "predict_review(model, more_reviews)"
      ]
    },
    {
      "cell_type": "code",
      "execution_count": 27,
      "metadata": {
        "id": "NI04noTAHK5t"
      },
      "outputs": [
        {
          "name": "stdout",
          "output_type": "stream",
          "text": [
            "============================\n",
            " With CNN\n",
            " ============================\n",
            "I loved this movie\n",
            "[0.8942872]\n",
            "\n",
            "\n",
            "that was the worst movie I've ever seen\n",
            "[0.03759512]\n",
            "\n",
            "\n",
            "too much violence even for a Bond film\n",
            "[0.00358463]\n",
            "\n",
            "\n",
            "a captivating recounting of a cherished myth\n",
            "[0.6704127]\n",
            "\n",
            "\n",
            "I saw this movie yesterday and I was feeling low to start with,\n",
            " but it was such a wonderful movie that it lifted my spirits and brightened \n",
            " my day, you can't go wrong with a movie with Whoopi Goldberg in it.\n",
            "[0.75590235]\n",
            "\n",
            "\n",
            "I don't understand why it received an oscar recommendation\n",
            " for best movie, it was long and boring\n",
            "[0.9418247]\n",
            "\n",
            "\n",
            "the scenery was magnificent, the CGI of the dogs was so realistic I\n",
            " thought they were played by real dogs even though they talked!\n",
            "[0.43811944]\n",
            "\n",
            "\n",
            "The ending was so sad and yet so uplifting at the same time. \n",
            " I'm looking for an excuse to see it again\n",
            "[0.7635841]\n",
            "\n",
            "\n",
            "I had expected so much more from a movie made by the director \n",
            " who made my most favorite movie ever, I was very disappointed in the tedious \n",
            " story\n",
            "[0.03721244]\n",
            "\n",
            "\n",
            "I wish I could watch this movie every day for the rest of my life\n",
            "[0.1655215]\n",
            "\n",
            "\n"
          ]
        }
      ],
      "source": [
        "print(\"============================\\n\",\"With CNN\\n\", \"============================\")\n",
        "predict_review(model_cnn, more_reviews)"
      ]
    },
    {
      "cell_type": "code",
      "execution_count": 28,
      "metadata": {
        "id": "vGJ32sRUHNu6"
      },
      "outputs": [
        {
          "name": "stdout",
          "output_type": "stream",
          "text": [
            "===========================\n",
            " With bidirectional GRU\n",
            " ============================\n",
            "I loved this movie\n",
            "[0.33828518]\n",
            "\n",
            "\n",
            "that was the worst movie I've ever seen\n",
            "[0.1292787]\n",
            "\n",
            "\n",
            "too much violence even for a Bond film\n",
            "[0.10702351]\n",
            "\n",
            "\n",
            "a captivating recounting of a cherished myth\n",
            "[0.35747084]\n",
            "\n",
            "\n",
            "I saw this movie yesterday and I was feeling low to start with,\n",
            " but it was such a wonderful movie that it lifted my spirits and brightened \n",
            " my day, you can't go wrong with a movie with Whoopi Goldberg in it.\n",
            "[0.09740528]\n",
            "\n",
            "\n",
            "I don't understand why it received an oscar recommendation\n",
            " for best movie, it was long and boring\n",
            "[0.12004137]\n",
            "\n",
            "\n",
            "the scenery was magnificent, the CGI of the dogs was so realistic I\n",
            " thought they were played by real dogs even though they talked!\n",
            "[0.09542474]\n",
            "\n",
            "\n",
            "The ending was so sad and yet so uplifting at the same time. \n",
            " I'm looking for an excuse to see it again\n",
            "[0.19421698]\n",
            "\n",
            "\n",
            "I had expected so much more from a movie made by the director \n",
            " who made my most favorite movie ever, I was very disappointed in the tedious \n",
            " story\n",
            "[0.06751282]\n",
            "\n",
            "\n",
            "I wish I could watch this movie every day for the rest of my life\n",
            "[0.14632374]\n",
            "\n",
            "\n"
          ]
        }
      ],
      "source": [
        "print(\"===========================\\n\",\"With bidirectional GRU\\n\", \"============================\")\n",
        "predict_review(model_gru, more_reviews)"
      ]
    },
    {
      "cell_type": "code",
      "execution_count": 29,
      "metadata": {
        "id": "IFw9Q0iQHP2P"
      },
      "outputs": [
        {
          "name": "stdout",
          "output_type": "stream",
          "text": [
            "===========================\n",
            " With a single bidirectional LSTM:\n",
            " ===========================\n",
            "I loved this movie\n",
            "[0.4894656]\n",
            "\n",
            "\n",
            "that was the worst movie I've ever seen\n",
            "[0.30231726]\n",
            "\n",
            "\n",
            "too much violence even for a Bond film\n",
            "[0.3942473]\n",
            "\n",
            "\n",
            "a captivating recounting of a cherished myth\n",
            "[0.5639357]\n",
            "\n",
            "\n",
            "I saw this movie yesterday and I was feeling low to start with,\n",
            " but it was such a wonderful movie that it lifted my spirits and brightened \n",
            " my day, you can't go wrong with a movie with Whoopi Goldberg in it.\n",
            "[0.31095716]\n",
            "\n",
            "\n",
            "I don't understand why it received an oscar recommendation\n",
            " for best movie, it was long and boring\n",
            "[0.24633814]\n",
            "\n",
            "\n",
            "the scenery was magnificent, the CGI of the dogs was so realistic I\n",
            " thought they were played by real dogs even though they talked!\n",
            "[0.24976978]\n",
            "\n",
            "\n",
            "The ending was so sad and yet so uplifting at the same time. \n",
            " I'm looking for an excuse to see it again\n",
            "[0.35665268]\n",
            "\n",
            "\n",
            "I had expected so much more from a movie made by the director \n",
            " who made my most favorite movie ever, I was very disappointed in the tedious \n",
            " story\n",
            "[0.18610711]\n",
            "\n",
            "\n",
            "I wish I could watch this movie every day for the rest of my life\n",
            "[0.49755698]\n",
            "\n",
            "\n"
          ]
        }
      ],
      "source": [
        "print(\"===========================\\n\", \"With a single bidirectional LSTM:\\n\", \"===========================\")\n",
        "predict_review(model_bidi_lstm, more_reviews)"
      ]
    },
    {
      "cell_type": "code",
      "execution_count": 30,
      "metadata": {
        "id": "zaw7fEVQHSWK"
      },
      "outputs": [
        {
          "name": "stdout",
          "output_type": "stream",
          "text": [
            "===========================\n",
            " With multiple bidirectional LSTM:\n",
            " ==========================\n",
            "I loved this movie\n",
            "[0.6327412]\n",
            "\n",
            "\n",
            "that was the worst movie I've ever seen\n",
            "[0.6682884]\n",
            "\n",
            "\n",
            "too much violence even for a Bond film\n",
            "[0.00665568]\n",
            "\n",
            "\n",
            "a captivating recounting of a cherished myth\n",
            "[0.9942386]\n",
            "\n",
            "\n",
            "I saw this movie yesterday and I was feeling low to start with,\n",
            " but it was such a wonderful movie that it lifted my spirits and brightened \n",
            " my day, you can't go wrong with a movie with Whoopi Goldberg in it.\n",
            "[0.9976787]\n",
            "\n",
            "\n",
            "I don't understand why it received an oscar recommendation\n",
            " for best movie, it was long and boring\n",
            "[0.9982015]\n",
            "\n",
            "\n",
            "the scenery was magnificent, the CGI of the dogs was so realistic I\n",
            " thought they were played by real dogs even though they talked!\n",
            "[0.9827556]\n",
            "\n",
            "\n",
            "The ending was so sad and yet so uplifting at the same time. \n",
            " I'm looking for an excuse to see it again\n",
            "[0.99759895]\n",
            "\n",
            "\n",
            "I had expected so much more from a movie made by the director \n",
            " who made my most favorite movie ever, I was very disappointed in the tedious \n",
            " story\n",
            "[0.01536455]\n",
            "\n",
            "\n",
            "I wish I could watch this movie every day for the rest of my life\n",
            "[0.02658088]\n",
            "\n",
            "\n"
          ]
        }
      ],
      "source": [
        "print(\"===========================\\n\", \"With multiple bidirectional LSTM:\\n\", \"==========================\")\n",
        "predict_review(model_multiple_bidi_lstm, more_reviews)"
      ]
    }
  ],
  "metadata": {
    "accelerator": "GPU",
    "colab": {
      "name": "l10c02_nlp_multiple_models_for_predicting_sentiment.ipynb",
      "provenance": [],
      "toc_visible": true
    },
    "kernelspec": {
      "display_name": "Python 3",
      "language": "python",
      "name": "python3"
    },
    "language_info": {
      "codemirror_mode": {
        "name": "ipython",
        "version": 3
      },
      "file_extension": ".py",
      "mimetype": "text/x-python",
      "name": "python",
      "nbconvert_exporter": "python",
      "pygments_lexer": "ipython3",
      "version": "3.9.6"
    },
    "vscode": {
      "interpreter": {
        "hash": "694f7013b8222f320a1f5659e432991065b389605aaf3bf46a23c702e681f648"
      }
    }
  },
  "nbformat": 4,
  "nbformat_minor": 0
}
